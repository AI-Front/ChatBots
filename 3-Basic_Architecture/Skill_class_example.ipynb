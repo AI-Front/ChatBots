{
  "nbformat": 4,
  "nbformat_minor": 0,
  "metadata": {
    "kernelspec": {
      "display_name": "Python 3",
      "language": "python",
      "name": "python3"
    },
    "language_info": {
      "codemirror_mode": {
        "name": "ipython",
        "version": 3
      },
      "file_extension": ".py",
      "mimetype": "text/x-python",
      "name": "python",
      "nbconvert_exporter": "python",
      "pygments_lexer": "ipython3",
      "version": "3.7.3"
    },
    "colab": {
      "name": "Skill_class_example.ipynb",
      "provenance": [],
      "include_colab_link": true
    }
  },
  "cells": [
    {
      "cell_type": "markdown",
      "metadata": {
        "id": "view-in-github",
        "colab_type": "text"
      },
      "source": [
        "<a href=\"https://colab.research.google.com/github/AI-Front/ChatBots/blob/master/3-Basic_Architecture/Skill_class_example.ipynb\" target=\"_parent\"><img src=\"https://colab.research.google.com/assets/colab-badge.svg\" alt=\"Open In Colab\"/></a>"
      ]
    },
    {
      "cell_type": "markdown",
      "metadata": {
        "id": "zBh1GPFvPnsU",
        "colab_type": "text"
      },
      "source": [
        "# Simple Skill Class\n",
        "\n",
        "Let's make a stadard skill, which can be called from any architecture.\n",
        "\n",
        "The skill class should include:\n",
        "0. init with all the arguments that should be passed ot loaded in the class models\n",
        "1. call function to call your skill with no conditions\n",
        "2. classify function to activate your skill conditionally on a message from a user\n",
        "3. fit function is you want to make a retraineble model and pass new data to the models in the skill \n",
        "4. any additional functions you need to perform correct text and state processing, classification, response generation, etc :)\n",
        "\n",
        "In this example, we will create an example class"
      ]
    },
    {
      "cell_type": "code",
      "metadata": {
        "id": "9lGYfQfYPi4k",
        "colab_type": "code",
        "colab": {}
      },
      "source": [
        "import re\n",
        "import random\n"
      ],
      "execution_count": 1,
      "outputs": []
    },
    {
      "cell_type": "code",
      "metadata": {
        "id": "AZ_re_dBPi4x",
        "colab_type": "code",
        "colab": {}
      },
      "source": [
        "class ExampleSkill():\n",
        "    def __init__(self, *args, **kwargs):\n",
        "        super(ExampleSkill, self).__init__(*args, **kwargs)\n",
        "        self.emojies = '😀 😃 😄 😁 😆 😅 😂 🤣 😇 😉 😊 🙂 🙃 😋 😌 😍 😘'.split()\n",
        " \n",
        "    def __call__(self, text, states=None, **kwargs):\n",
        "        res = self.get_answer(states)\n",
        "        return res\n",
        "\n",
        "    def fit(self, *args, **kwargs):\n",
        "        \"\"\"Fit skill function.\"\"\"\n",
        "        raise NotImplemented\n",
        "\n",
        "\n",
        "    def classify(self, text, states):\n",
        "        if self.check_skill(text):\n",
        "            res = self.get_answer(states)\n",
        "            return {'name': 'ExampleSkill', 'answer': res}\n",
        "        return {}\n",
        "  \n",
        "    def get_answer(self, states):\n",
        "        #this is the answer we want the bot to return\n",
        "        answer = random.choice(self.emojies)\n",
        "        #this is skill confidence score - as we use regex, not some probability function, the score is 100%\n",
        "        score = 1.0 \n",
        "        res = {\n",
        "                \"res_utterances\": [[answer]],\n",
        "                \"states\": states,\n",
        "                \"confidence_batch\": [[score]]}\n",
        "        return res\n",
        "\n",
        "\n",
        "    @staticmethod\n",
        "    def check_skill(text):\n",
        "        if re.findall('simple', text):\n",
        "            return True\n",
        "        return False\n"
      ],
      "execution_count": 2,
      "outputs": []
    },
    {
      "cell_type": "code",
      "metadata": {
        "id": "zUz-bPkuPi47",
        "colab_type": "code",
        "colab": {}
      },
      "source": [
        "skill = ExampleSkill()"
      ],
      "execution_count": 3,
      "outputs": []
    },
    {
      "cell_type": "code",
      "metadata": {
        "id": "YjckTLqzPi5G",
        "colab_type": "code",
        "colab": {}
      },
      "source": [
        "text_message = 'I want to activate a simple skill'\n",
        "\n",
        "# any data you store in preprocessing\n",
        "states = {'tokens':[],\n",
        "         'morphology':[],\n",
        "         'sentiment':'',\n",
        "         'wiki/chitchat':''}"
      ],
      "execution_count": 4,
      "outputs": []
    },
    {
      "cell_type": "code",
      "metadata": {
        "id": "dV0ZG8sGPi5Q",
        "colab_type": "code",
        "colab": {
          "base_uri": "https://localhost:8080/",
          "height": 136
        },
        "outputId": "3a7c8356-e462-4ee5-8726-2b2eeb45e739"
      },
      "source": [
        "skill.classify(text_message, states)"
      ],
      "execution_count": 5,
      "outputs": [
        {
          "output_type": "execute_result",
          "data": {
            "text/plain": [
              "{'answer': {'confidence_batch': [[1.0]],\n",
              "  'res_utterances': [['🙂']],\n",
              "  'states': {'morphology': [],\n",
              "   'sentiment': '',\n",
              "   'tokens': [],\n",
              "   'wiki/chitchat': ''}},\n",
              " 'name': 'ExampleSkill'}"
            ]
          },
          "metadata": {
            "tags": []
          },
          "execution_count": 5
        }
      ]
    },
    {
      "cell_type": "markdown",
      "metadata": {
        "id": "fYeXOYM0VtRF",
        "colab_type": "text"
      },
      "source": [
        "You can make complex \"classify\" functions with skill classifiers, regular expressions, key-word rules on preprossed text, or cosine similarity on gold skill activation examples, etc. \n",
        "See our next [lessons](https://github.com/AI-Front/ChatBots/tree/master/3-Basic_Architecture)"
      ]
    }
  ]
}