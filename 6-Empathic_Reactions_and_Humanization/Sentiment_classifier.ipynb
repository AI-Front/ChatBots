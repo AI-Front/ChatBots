{
  "nbformat": 4,
  "nbformat_minor": 0,
  "metadata": {
    "colab": {
      "name": "Sentiment_classifier.ipynb",
      "provenance": [],
      "authorship_tag": "ABX9TyOTcqAtanbccQbc28CQolTZ",
      "include_colab_link": true
    },
    "kernelspec": {
      "name": "python3",
      "display_name": "Python 3"
    }
  },
  "cells": [
    {
      "cell_type": "markdown",
      "metadata": {
        "id": "view-in-github",
        "colab_type": "text"
      },
      "source": [
        "<a href=\"https://colab.research.google.com/github/AI-Front/ChatBots/blob/master/6-Empathic_Reactions_and_Humanization/Sentiment_classifier.ipynb\" target=\"_parent\"><img src=\"https://colab.research.google.com/assets/colab-badge.svg\" alt=\"Open In Colab\"/></a>"
      ]
    },
    {
      "cell_type": "markdown",
      "metadata": {
        "id": "Pp_foQSeBZRB",
        "colab_type": "text"
      },
      "source": [
        "# Out-of-the-box sentiment classifier with TextBlob"
      ]
    },
    {
      "cell_type": "markdown",
      "metadata": {
        "id": "H4utLaZXBhnW",
        "colab_type": "text"
      },
      "source": [
        "This tutorial describes how to use a simple sentiment classifier within [TextBlob](https://textblob.readthedocs.io/en/dev/advanced_usage.html#sentiment-analyzers) python library framework. \n",
        "\n",
        "\n",
        "\n",
        "In this tutorial we will go through\n",
        "\n",
        "0. Installation and interaction\n",
        "0. Simple skill examples you can make for the bot\n",
        "\n",
        "\n",
        "![textblob.png](https://github.com/AI-Front/ChatBots/blob/master/6-Empathic_Reactions_and_Humanization/textblob.png?raw=1)"
      ]
    },
    {
      "cell_type": "markdown",
      "metadata": {
        "id": "E6ZulwEkC6Ax",
        "colab_type": "text"
      },
      "source": [
        "# Installation and interaction"
      ]
    },
    {
      "cell_type": "markdown",
      "metadata": {
        "id": "Tmt6rMMzEvh3",
        "colab_type": "text"
      },
      "source": [
        "We will now install TextBlob library itself and also download the nltk library dependent modules"
      ]
    },
    {
      "cell_type": "code",
      "metadata": {
        "id": "xhrgcsCUBYqT",
        "colab_type": "code",
        "colab": {
          "base_uri": "https://localhost:8080/",
          "height": 68
        },
        "outputId": "0fa7b4e9-6df9-425c-a4a7-d0c6341a8835"
      },
      "source": [
        "!pip install textblob"
      ],
      "execution_count": 1,
      "outputs": [
        {
          "output_type": "stream",
          "text": [
            "Requirement already satisfied: textblob in /usr/local/lib/python3.6/dist-packages (0.15.3)\n",
            "Requirement already satisfied: nltk>=3.1 in /usr/local/lib/python3.6/dist-packages (from textblob) (3.2.5)\n",
            "Requirement already satisfied: six in /usr/local/lib/python3.6/dist-packages (from nltk>=3.1->textblob) (1.12.0)\n"
          ],
          "name": "stdout"
        }
      ]
    },
    {
      "cell_type": "code",
      "metadata": {
        "id": "2kQ1IRLUE7Pn",
        "colab_type": "code",
        "colab": {
          "base_uri": "https://localhost:8080/",
          "height": 1000
        },
        "outputId": "a1299605-44b3-42ff-a400-4cdc366eae8e"
      },
      "source": [
        "import nltk\n",
        "nltk.download('all')"
      ],
      "execution_count": 2,
      "outputs": [
        {
          "output_type": "stream",
          "text": [
            "[nltk_data] Downloading collection 'all'\n",
            "[nltk_data]    | \n",
            "[nltk_data]    | Downloading package abc to /root/nltk_data...\n",
            "[nltk_data]    |   Unzipping corpora/abc.zip.\n",
            "[nltk_data]    | Downloading package alpino to /root/nltk_data...\n",
            "[nltk_data]    |   Unzipping corpora/alpino.zip.\n",
            "[nltk_data]    | Downloading package biocreative_ppi to\n",
            "[nltk_data]    |     /root/nltk_data...\n",
            "[nltk_data]    |   Unzipping corpora/biocreative_ppi.zip.\n",
            "[nltk_data]    | Downloading package brown to /root/nltk_data...\n",
            "[nltk_data]    |   Unzipping corpora/brown.zip.\n",
            "[nltk_data]    | Downloading package brown_tei to /root/nltk_data...\n",
            "[nltk_data]    |   Unzipping corpora/brown_tei.zip.\n",
            "[nltk_data]    | Downloading package cess_cat to /root/nltk_data...\n",
            "[nltk_data]    |   Unzipping corpora/cess_cat.zip.\n",
            "[nltk_data]    | Downloading package cess_esp to /root/nltk_data...\n",
            "[nltk_data]    |   Unzipping corpora/cess_esp.zip.\n",
            "[nltk_data]    | Downloading package chat80 to /root/nltk_data...\n",
            "[nltk_data]    |   Unzipping corpora/chat80.zip.\n",
            "[nltk_data]    | Downloading package city_database to\n",
            "[nltk_data]    |     /root/nltk_data...\n",
            "[nltk_data]    |   Unzipping corpora/city_database.zip.\n",
            "[nltk_data]    | Downloading package cmudict to /root/nltk_data...\n",
            "[nltk_data]    |   Unzipping corpora/cmudict.zip.\n",
            "[nltk_data]    | Downloading package comparative_sentences to\n",
            "[nltk_data]    |     /root/nltk_data...\n",
            "[nltk_data]    |   Unzipping corpora/comparative_sentences.zip.\n",
            "[nltk_data]    | Downloading package comtrans to /root/nltk_data...\n",
            "[nltk_data]    | Downloading package conll2000 to /root/nltk_data...\n",
            "[nltk_data]    |   Unzipping corpora/conll2000.zip.\n",
            "[nltk_data]    | Downloading package conll2002 to /root/nltk_data...\n",
            "[nltk_data]    |   Unzipping corpora/conll2002.zip.\n",
            "[nltk_data]    | Downloading package conll2007 to /root/nltk_data...\n",
            "[nltk_data]    | Downloading package crubadan to /root/nltk_data...\n",
            "[nltk_data]    |   Unzipping corpora/crubadan.zip.\n",
            "[nltk_data]    | Downloading package dependency_treebank to\n",
            "[nltk_data]    |     /root/nltk_data...\n",
            "[nltk_data]    |   Unzipping corpora/dependency_treebank.zip.\n",
            "[nltk_data]    | Downloading package dolch to /root/nltk_data...\n",
            "[nltk_data]    |   Unzipping corpora/dolch.zip.\n",
            "[nltk_data]    | Downloading package europarl_raw to\n",
            "[nltk_data]    |     /root/nltk_data...\n",
            "[nltk_data]    |   Unzipping corpora/europarl_raw.zip.\n",
            "[nltk_data]    | Downloading package floresta to /root/nltk_data...\n",
            "[nltk_data]    |   Unzipping corpora/floresta.zip.\n",
            "[nltk_data]    | Downloading package framenet_v15 to\n",
            "[nltk_data]    |     /root/nltk_data...\n",
            "[nltk_data]    |   Unzipping corpora/framenet_v15.zip.\n",
            "[nltk_data]    | Downloading package framenet_v17 to\n",
            "[nltk_data]    |     /root/nltk_data...\n",
            "[nltk_data]    |   Unzipping corpora/framenet_v17.zip.\n",
            "[nltk_data]    | Downloading package gazetteers to /root/nltk_data...\n",
            "[nltk_data]    |   Unzipping corpora/gazetteers.zip.\n",
            "[nltk_data]    | Downloading package genesis to /root/nltk_data...\n",
            "[nltk_data]    |   Unzipping corpora/genesis.zip.\n",
            "[nltk_data]    | Downloading package gutenberg to /root/nltk_data...\n",
            "[nltk_data]    |   Unzipping corpora/gutenberg.zip.\n",
            "[nltk_data]    | Downloading package ieer to /root/nltk_data...\n",
            "[nltk_data]    |   Unzipping corpora/ieer.zip.\n",
            "[nltk_data]    | Downloading package inaugural to /root/nltk_data...\n",
            "[nltk_data]    |   Unzipping corpora/inaugural.zip.\n",
            "[nltk_data]    | Downloading package indian to /root/nltk_data...\n",
            "[nltk_data]    |   Unzipping corpora/indian.zip.\n",
            "[nltk_data]    | Downloading package jeita to /root/nltk_data...\n",
            "[nltk_data]    | Downloading package kimmo to /root/nltk_data...\n",
            "[nltk_data]    |   Unzipping corpora/kimmo.zip.\n",
            "[nltk_data]    | Downloading package knbc to /root/nltk_data...\n",
            "[nltk_data]    | Downloading package lin_thesaurus to\n",
            "[nltk_data]    |     /root/nltk_data...\n",
            "[nltk_data]    |   Unzipping corpora/lin_thesaurus.zip.\n",
            "[nltk_data]    | Downloading package mac_morpho to /root/nltk_data...\n",
            "[nltk_data]    |   Unzipping corpora/mac_morpho.zip.\n",
            "[nltk_data]    | Downloading package machado to /root/nltk_data...\n",
            "[nltk_data]    | Downloading package masc_tagged to /root/nltk_data...\n",
            "[nltk_data]    | Downloading package moses_sample to\n",
            "[nltk_data]    |     /root/nltk_data...\n",
            "[nltk_data]    |   Unzipping models/moses_sample.zip.\n",
            "[nltk_data]    | Downloading package movie_reviews to\n",
            "[nltk_data]    |     /root/nltk_data...\n",
            "[nltk_data]    |   Unzipping corpora/movie_reviews.zip.\n",
            "[nltk_data]    | Downloading package names to /root/nltk_data...\n",
            "[nltk_data]    |   Unzipping corpora/names.zip.\n",
            "[nltk_data]    | Downloading package nombank.1.0 to /root/nltk_data...\n",
            "[nltk_data]    | Downloading package nps_chat to /root/nltk_data...\n",
            "[nltk_data]    |   Unzipping corpora/nps_chat.zip.\n",
            "[nltk_data]    | Downloading package omw to /root/nltk_data...\n",
            "[nltk_data]    |   Unzipping corpora/omw.zip.\n",
            "[nltk_data]    | Downloading package opinion_lexicon to\n",
            "[nltk_data]    |     /root/nltk_data...\n",
            "[nltk_data]    |   Unzipping corpora/opinion_lexicon.zip.\n",
            "[nltk_data]    | Downloading package paradigms to /root/nltk_data...\n",
            "[nltk_data]    |   Unzipping corpora/paradigms.zip.\n",
            "[nltk_data]    | Downloading package pil to /root/nltk_data...\n",
            "[nltk_data]    |   Unzipping corpora/pil.zip.\n",
            "[nltk_data]    | Downloading package pl196x to /root/nltk_data...\n",
            "[nltk_data]    |   Unzipping corpora/pl196x.zip.\n",
            "[nltk_data]    | Downloading package ppattach to /root/nltk_data...\n",
            "[nltk_data]    |   Unzipping corpora/ppattach.zip.\n",
            "[nltk_data]    | Downloading package problem_reports to\n",
            "[nltk_data]    |     /root/nltk_data...\n",
            "[nltk_data]    |   Unzipping corpora/problem_reports.zip.\n",
            "[nltk_data]    | Downloading package propbank to /root/nltk_data...\n",
            "[nltk_data]    | Downloading package ptb to /root/nltk_data...\n",
            "[nltk_data]    |   Unzipping corpora/ptb.zip.\n",
            "[nltk_data]    | Downloading package product_reviews_1 to\n",
            "[nltk_data]    |     /root/nltk_data...\n",
            "[nltk_data]    |   Unzipping corpora/product_reviews_1.zip.\n",
            "[nltk_data]    | Downloading package product_reviews_2 to\n",
            "[nltk_data]    |     /root/nltk_data...\n",
            "[nltk_data]    |   Unzipping corpora/product_reviews_2.zip.\n",
            "[nltk_data]    | Downloading package pros_cons to /root/nltk_data...\n",
            "[nltk_data]    |   Unzipping corpora/pros_cons.zip.\n",
            "[nltk_data]    | Downloading package qc to /root/nltk_data...\n",
            "[nltk_data]    |   Unzipping corpora/qc.zip.\n",
            "[nltk_data]    | Downloading package reuters to /root/nltk_data...\n",
            "[nltk_data]    | Downloading package rte to /root/nltk_data...\n",
            "[nltk_data]    |   Unzipping corpora/rte.zip.\n",
            "[nltk_data]    | Downloading package semcor to /root/nltk_data...\n",
            "[nltk_data]    | Downloading package senseval to /root/nltk_data...\n",
            "[nltk_data]    |   Unzipping corpora/senseval.zip.\n",
            "[nltk_data]    | Downloading package sentiwordnet to\n",
            "[nltk_data]    |     /root/nltk_data...\n",
            "[nltk_data]    |   Unzipping corpora/sentiwordnet.zip.\n",
            "[nltk_data]    | Downloading package sentence_polarity to\n",
            "[nltk_data]    |     /root/nltk_data...\n",
            "[nltk_data]    |   Unzipping corpora/sentence_polarity.zip.\n",
            "[nltk_data]    | Downloading package shakespeare to /root/nltk_data...\n",
            "[nltk_data]    |   Unzipping corpora/shakespeare.zip.\n",
            "[nltk_data]    | Downloading package sinica_treebank to\n",
            "[nltk_data]    |     /root/nltk_data...\n",
            "[nltk_data]    |   Unzipping corpora/sinica_treebank.zip.\n",
            "[nltk_data]    | Downloading package smultron to /root/nltk_data...\n",
            "[nltk_data]    |   Unzipping corpora/smultron.zip.\n",
            "[nltk_data]    | Downloading package state_union to /root/nltk_data...\n",
            "[nltk_data]    |   Unzipping corpora/state_union.zip.\n",
            "[nltk_data]    | Downloading package stopwords to /root/nltk_data...\n",
            "[nltk_data]    |   Unzipping corpora/stopwords.zip.\n",
            "[nltk_data]    | Downloading package subjectivity to\n",
            "[nltk_data]    |     /root/nltk_data...\n",
            "[nltk_data]    |   Unzipping corpora/subjectivity.zip.\n",
            "[nltk_data]    | Downloading package swadesh to /root/nltk_data...\n",
            "[nltk_data]    |   Unzipping corpora/swadesh.zip.\n",
            "[nltk_data]    | Downloading package switchboard to /root/nltk_data...\n",
            "[nltk_data]    |   Unzipping corpora/switchboard.zip.\n",
            "[nltk_data]    | Downloading package timit to /root/nltk_data...\n",
            "[nltk_data]    |   Unzipping corpora/timit.zip.\n",
            "[nltk_data]    | Downloading package toolbox to /root/nltk_data...\n",
            "[nltk_data]    |   Unzipping corpora/toolbox.zip.\n",
            "[nltk_data]    | Downloading package treebank to /root/nltk_data...\n",
            "[nltk_data]    |   Unzipping corpora/treebank.zip.\n",
            "[nltk_data]    | Downloading package twitter_samples to\n",
            "[nltk_data]    |     /root/nltk_data...\n",
            "[nltk_data]    |   Unzipping corpora/twitter_samples.zip.\n",
            "[nltk_data]    | Downloading package udhr to /root/nltk_data...\n",
            "[nltk_data]    |   Unzipping corpora/udhr.zip.\n",
            "[nltk_data]    | Downloading package udhr2 to /root/nltk_data...\n",
            "[nltk_data]    |   Unzipping corpora/udhr2.zip.\n",
            "[nltk_data]    | Downloading package unicode_samples to\n",
            "[nltk_data]    |     /root/nltk_data...\n",
            "[nltk_data]    |   Unzipping corpora/unicode_samples.zip.\n",
            "[nltk_data]    | Downloading package universal_treebanks_v20 to\n",
            "[nltk_data]    |     /root/nltk_data...\n",
            "[nltk_data]    | Downloading package verbnet to /root/nltk_data...\n",
            "[nltk_data]    |   Unzipping corpora/verbnet.zip.\n",
            "[nltk_data]    | Downloading package verbnet3 to /root/nltk_data...\n",
            "[nltk_data]    |   Unzipping corpora/verbnet3.zip.\n",
            "[nltk_data]    | Downloading package webtext to /root/nltk_data...\n",
            "[nltk_data]    |   Unzipping corpora/webtext.zip.\n",
            "[nltk_data]    | Downloading package wordnet to /root/nltk_data...\n",
            "[nltk_data]    |   Unzipping corpora/wordnet.zip.\n",
            "[nltk_data]    | Downloading package wordnet_ic to /root/nltk_data...\n",
            "[nltk_data]    |   Unzipping corpora/wordnet_ic.zip.\n",
            "[nltk_data]    | Downloading package words to /root/nltk_data...\n",
            "[nltk_data]    |   Unzipping corpora/words.zip.\n",
            "[nltk_data]    | Downloading package ycoe to /root/nltk_data...\n",
            "[nltk_data]    |   Unzipping corpora/ycoe.zip.\n",
            "[nltk_data]    | Downloading package rslp to /root/nltk_data...\n",
            "[nltk_data]    |   Unzipping stemmers/rslp.zip.\n",
            "[nltk_data]    | Downloading package maxent_treebank_pos_tagger to\n",
            "[nltk_data]    |     /root/nltk_data...\n",
            "[nltk_data]    |   Unzipping taggers/maxent_treebank_pos_tagger.zip.\n",
            "[nltk_data]    | Downloading package universal_tagset to\n",
            "[nltk_data]    |     /root/nltk_data...\n",
            "[nltk_data]    |   Unzipping taggers/universal_tagset.zip.\n",
            "[nltk_data]    | Downloading package maxent_ne_chunker to\n",
            "[nltk_data]    |     /root/nltk_data...\n",
            "[nltk_data]    |   Unzipping chunkers/maxent_ne_chunker.zip.\n",
            "[nltk_data]    | Downloading package punkt to /root/nltk_data...\n",
            "[nltk_data]    |   Unzipping tokenizers/punkt.zip.\n",
            "[nltk_data]    | Downloading package book_grammars to\n",
            "[nltk_data]    |     /root/nltk_data...\n",
            "[nltk_data]    |   Unzipping grammars/book_grammars.zip.\n",
            "[nltk_data]    | Downloading package sample_grammars to\n",
            "[nltk_data]    |     /root/nltk_data...\n",
            "[nltk_data]    |   Unzipping grammars/sample_grammars.zip.\n",
            "[nltk_data]    | Downloading package spanish_grammars to\n",
            "[nltk_data]    |     /root/nltk_data...\n",
            "[nltk_data]    |   Unzipping grammars/spanish_grammars.zip.\n",
            "[nltk_data]    | Downloading package basque_grammars to\n",
            "[nltk_data]    |     /root/nltk_data...\n",
            "[nltk_data]    |   Unzipping grammars/basque_grammars.zip.\n",
            "[nltk_data]    | Downloading package large_grammars to\n",
            "[nltk_data]    |     /root/nltk_data...\n",
            "[nltk_data]    |   Unzipping grammars/large_grammars.zip.\n",
            "[nltk_data]    | Downloading package tagsets to /root/nltk_data...\n",
            "[nltk_data]    |   Unzipping help/tagsets.zip.\n",
            "[nltk_data]    | Downloading package snowball_data to\n",
            "[nltk_data]    |     /root/nltk_data...\n",
            "[nltk_data]    | Downloading package bllip_wsj_no_aux to\n",
            "[nltk_data]    |     /root/nltk_data...\n",
            "[nltk_data]    |   Unzipping models/bllip_wsj_no_aux.zip.\n",
            "[nltk_data]    | Downloading package word2vec_sample to\n",
            "[nltk_data]    |     /root/nltk_data...\n",
            "[nltk_data]    |   Unzipping models/word2vec_sample.zip.\n",
            "[nltk_data]    | Downloading package panlex_swadesh to\n",
            "[nltk_data]    |     /root/nltk_data...\n",
            "[nltk_data]    | Downloading package mte_teip5 to /root/nltk_data...\n",
            "[nltk_data]    |   Unzipping corpora/mte_teip5.zip.\n",
            "[nltk_data]    | Downloading package averaged_perceptron_tagger to\n",
            "[nltk_data]    |     /root/nltk_data...\n",
            "[nltk_data]    |   Unzipping taggers/averaged_perceptron_tagger.zip.\n",
            "[nltk_data]    | Downloading package averaged_perceptron_tagger_ru to\n",
            "[nltk_data]    |     /root/nltk_data...\n",
            "[nltk_data]    |   Unzipping\n",
            "[nltk_data]    |       taggers/averaged_perceptron_tagger_ru.zip.\n",
            "[nltk_data]    | Downloading package perluniprops to\n",
            "[nltk_data]    |     /root/nltk_data...\n",
            "[nltk_data]    |   Unzipping misc/perluniprops.zip.\n",
            "[nltk_data]    | Downloading package nonbreaking_prefixes to\n",
            "[nltk_data]    |     /root/nltk_data...\n",
            "[nltk_data]    |   Unzipping corpora/nonbreaking_prefixes.zip.\n",
            "[nltk_data]    | Downloading package vader_lexicon to\n",
            "[nltk_data]    |     /root/nltk_data...\n",
            "[nltk_data]    | Downloading package porter_test to /root/nltk_data...\n",
            "[nltk_data]    |   Unzipping stemmers/porter_test.zip.\n",
            "[nltk_data]    | Downloading package wmt15_eval to /root/nltk_data...\n",
            "[nltk_data]    |   Unzipping models/wmt15_eval.zip.\n",
            "[nltk_data]    | Downloading package mwa_ppdb to /root/nltk_data...\n",
            "[nltk_data]    |   Unzipping misc/mwa_ppdb.zip.\n",
            "[nltk_data]    | \n",
            "[nltk_data]  Done downloading collection all\n"
          ],
          "name": "stdout"
        },
        {
          "output_type": "execute_result",
          "data": {
            "text/plain": [
              "True"
            ]
          },
          "metadata": {
            "tags": []
          },
          "execution_count": 2
        }
      ]
    },
    {
      "cell_type": "markdown",
      "metadata": {
        "id": "XOxGEF7PDlnU",
        "colab_type": "text"
      },
      "source": [
        "You can import 2 sentiment models eigher based on Naive Bayes Classifier or pattern-based one (default) \n",
        "\n",
        "The textblob.sentiments module contains two sentiment analysis implementations, PatternAnalyzer (based on the [pattern](https://www.clips.uantwerpen.be/pattern) library) and NaiveBayesAnalyzer (an NLTK classifier trained on a movie reviews corpus)."
      ]
    },
    {
      "cell_type": "code",
      "metadata": {
        "id": "smKXvh6XDeug",
        "colab_type": "code",
        "colab": {
          "base_uri": "https://localhost:8080/",
          "height": 34
        },
        "outputId": "7460e007-d34d-4ab1-f610-67f71266c2e0"
      },
      "source": [
        "#default pattern-based way\n",
        "\n",
        "from textblob import TextBlob\n",
        "\n",
        "blob = TextBlob(\"I love building bots\")\n",
        "print(blob.sentiment)\n"
      ],
      "execution_count": 3,
      "outputs": [
        {
          "output_type": "stream",
          "text": [
            "Sentiment(polarity=0.5, subjectivity=0.6)\n"
          ],
          "name": "stdout"
        }
      ]
    },
    {
      "cell_type": "code",
      "metadata": {
        "id": "TPrPW0n3Ee73",
        "colab_type": "code",
        "colab": {
          "base_uri": "https://localhost:8080/",
          "height": 34
        },
        "outputId": "8262ab8a-c5cd-4a0b-b8f7-4cd31e20b217"
      },
      "source": [
        "#NaiveBayes implementation\n",
        "\n",
        "from textblob.sentiments import NaiveBayesAnalyzer\n",
        "\n",
        "blob = TextBlob(\"I love chatbots!\", analyzer=NaiveBayesAnalyzer())\n",
        "print(blob.sentiment)"
      ],
      "execution_count": 10,
      "outputs": [
        {
          "output_type": "stream",
          "text": [
            "Sentiment(classification='pos', p_pos=0.5441400304414004, p_neg=0.45585996955859964)\n"
          ],
          "name": "stdout"
        }
      ]
    },
    {
      "cell_type": "markdown",
      "metadata": {
        "id": "appDd8JUGQhO",
        "colab_type": "text"
      },
      "source": [
        "# Simple skill examples\n",
        "\n",
        "Sentiment classification itself can be a feature for training a more advanced dialog system or a manager, a ranging model, etc.\n",
        "\n",
        "Still we can use it as a straitforward way to \n",
        "1. avoid negative messages from our own bot (this also applies for the [insult classifier](https://github.com/AI-Front/ChatBots/blob/master/6-Empathic_Reactions_and_Humanization/Insult_classifier.ipynb))\n",
        "2. react to negative messages from the user (eg he is depressed or heartbroken)\n",
        "3. add corresponding emojies to a message from the bot\n",
        "4. react with emojies only to positive user messages (sometimes, instead of a chitchat, to model a human-like behaviour) "
      ]
    },
    {
      "cell_type": "markdown",
      "metadata": {
        "id": "NMtYh707I4Ox",
        "colab_type": "text"
      },
      "source": [
        "## Example 1 (negative message from user)\n",
        "\n",
        "**Important:** To prevent overreacting of the bot we can limit the skill activation by prediction probability of the classifier (for example, only for strongly negative comments with p_neg=0.8 and more)\n",
        "\n",
        "**Important 2:** Sometimes it is better to switch the topic when the conversation is going in a negative way. You can add multimedia and links to your reaction messages so switch the attention and cheer up the user. Consider the platform and the usage of the bot (mobile vs desktop, screen size, etc)\n"
      ]
    },
    {
      "cell_type": "code",
      "metadata": {
        "id": "j6e1HsQJJl47",
        "colab_type": "code",
        "colab": {}
      },
      "source": [
        "import random\n",
        "\n",
        "reply = [\"Hey, what do you listen to when you feel sad? I love relaxing music: https://www.youtube.com/watch?v=5qap5aO4i9A\", \"Understandable 🥺 What can you do about it?\", \"I would feel the same if i were human\",\\\n",
        "         '''What if I find you an emoji art?\n",
        "         📲😳 I'm busy!💫\n",
        "          ☝️👕\n",
        "            🚽 💩💩💩💩''',\n",
        "                  '''⁣     🚿￣＼\n",
        "               😓   ｜\n",
        "              ⁣/|\\💧 ｜\n",
        "          | 💧/ \\   |\n",
        "          ￣￣￣￣￣￣''',\n",
        "         '''💐💐😉😊💐💐\n",
        "          ☕ Cheer Up  🍵\n",
        "          🍂 ✨ )) ✨  🍂\n",
        "          🍂┃ (( * ┣┓ 🍂\n",
        "          🍂┃*💗 ┣┛ 🍂\n",
        "          🍂┗━━┛  🍂\n",
        "          🎂 For YOU  🍰\n",
        "          💐💐😌😚💐💐''']"
      ],
      "execution_count": 4,
      "outputs": []
    },
    {
      "cell_type": "code",
      "metadata": {
        "id": "0OQ83EAeOzma",
        "colab_type": "code",
        "colab": {
          "base_uri": "https://localhost:8080/",
          "height": 102
        },
        "outputId": "a1fd07a5-d98c-49de-912a-a12fe01c5c40"
      },
      "source": [
        "print(random.choice(reply))"
      ],
      "execution_count": 5,
      "outputs": [
        {
          "output_type": "stream",
          "text": [
            "⁣     🚿￣＼\n",
            "               😓   ｜\n",
            "              ⁣/|\\💧 ｜\n",
            "          | 💧/ \\   |\n",
            "          ￣￣￣￣￣￣\n"
          ],
          "name": "stdout"
        }
      ]
    },
    {
      "cell_type": "code",
      "metadata": {
        "id": "eh5KQ9SWbrrK",
        "colab_type": "code",
        "colab": {}
      },
      "source": [
        "class NegativeSkill():\n",
        "    def __init__(self, *args, **kwargs):\n",
        "        super(NegativeSkill, self).__init__(*args, **kwargs)\n",
        "        self.reply = reply\n",
        " \n",
        "    def __call__(self, text, states=None, **kwargs):\n",
        "        res = self.get_answer(states)\n",
        "        return res\n",
        "\n",
        "    def fit(self, *args, **kwargs):\n",
        "        \"\"\"Fit skill function.\"\"\"\n",
        "        raise NotImplemented\n",
        "\n",
        "\n",
        "    def classify(self, text, states):\n",
        "        sentiment, p = self.check_skill(text)\n",
        "        if sentiment:\n",
        "            res = self.get_answer(p, states)\n",
        "            return {'name': 'NegativeSkill', 'answer': res}\n",
        "        return {}\n",
        "  \n",
        "    def get_answer(self, p=1, states=None):\n",
        "        #this is skill confidence score - as we use classifier, we will use its class proability score\n",
        "        score = p\n",
        "        res = {\n",
        "                \"res_utterances\": [[random.choice(self.reply)]],\n",
        "                \"states\": states,\n",
        "                \"confidence_batch\": [[score]]}\n",
        "        return res\n",
        "\n",
        "\n",
        "    @staticmethod\n",
        "    def check_skill(text):\n",
        "        #you can eigher put insult classifier here\n",
        "        blob = TextBlob(text)\n",
        "        if blob.sentiment.polarity < 0:\n",
        "            return 'negative', blob.sentiment.subjectivity\n",
        "        return False, 0"
      ],
      "execution_count": 29,
      "outputs": []
    },
    {
      "cell_type": "code",
      "metadata": {
        "id": "oXVkhPTCfbf7",
        "colab_type": "code",
        "colab": {
          "base_uri": "https://localhost:8080/",
          "height": 105
        },
        "outputId": "825782d8-45b2-4f8b-e5f9-e244b989d987"
      },
      "source": [
        "skill = NegativeSkill()\n",
        "text_message = 'I hate it today'\n",
        "skill.classify(text_message, {})"
      ],
      "execution_count": 33,
      "outputs": [
        {
          "output_type": "execute_result",
          "data": {
            "text/plain": [
              "{'answer': {'confidence_batch': [[0.9]],\n",
              "  'res_utterances': [['💐💐😉😊💐💐\\n          ☕ Cheer Up  🍵\\n          🍂 ✨ )) ✨  🍂\\n          🍂┃ (( * ┣┓ 🍂\\n          🍂┃*💗 ┣┛ 🍂\\n          🍂┗━━┛  🍂\\n          🎂 For YOU  🍰\\n          💐💐😌😚💐💐']],\n",
              "  'states': {}},\n",
              " 'name': 'NegativeSkill'}"
            ]
          },
          "metadata": {
            "tags": []
          },
          "execution_count": 33
        }
      ]
    },
    {
      "cell_type": "markdown",
      "metadata": {
        "id": "sKRSesAUJnLO",
        "colab_type": "text"
      },
      "source": [
        "## Example 2 (emoji reactions)\n"
      ]
    },
    {
      "cell_type": "code",
      "metadata": {
        "id": "FYyvoTN6YRGX",
        "colab_type": "code",
        "colab": {}
      },
      "source": [
        "class EmojiSkill():\n",
        "    def __init__(self, *args, **kwargs):\n",
        "        super(EmojiSkill, self).__init__(*args, **kwargs)\n",
        "        self.sad = '😳 😞 😟 😠 😡 😬 😣 😖 😫 😩 😤 😮 😱 😨 😰 😯 😦 😧 😢 😥 😪 🤤 😓 😭 😵'.split()\n",
        "        self.happy = '😀 😃 😄 😁 😆 😅 😂 🤣 😇 😉 😊 🙂 🙃 😋 😌 😍 😘 😗 😙 🤪 😜 😝 😛 🤑 😎 🤓 🤠 🥳 🤗 🤡 😏 🤩'.split()\n",
        " \n",
        "    def __call__(self, text, states=None, **kwargs):\n",
        "        res = self.get_answer(states)\n",
        "        return res\n",
        "\n",
        "    def fit(self, *args, **kwargs):\n",
        "        \"\"\"Fit skill function.\"\"\"\n",
        "        raise NotImplemented\n",
        "\n",
        "\n",
        "    def classify(self, text, states):\n",
        "        sentiment, p = self.check_skill(text)\n",
        "        if sentiment!='neutral':\n",
        "            res = self.get_answer(sentiment, p, states)\n",
        "            return {'name': 'EmojiSkill', 'answer': res}\n",
        "        return {}\n",
        "  \n",
        "    def get_answer(self,sentiment='positive', p=1, states=None):\n",
        "        #this is the answer we want the bot to return\n",
        "        answer_dic = {'positive':random.choice(self.happy), 'negative':random.choice(self.sad)}\n",
        "        #this is skill confidence score - as we use classifier, we will use its class proability score\n",
        "        score = p\n",
        "        res = {\n",
        "                \"res_utterances\": [[answer_dic[sentiment]]],\n",
        "                \"states\": states,\n",
        "                \"confidence_batch\": [[score]]}\n",
        "        return res\n",
        "\n",
        "\n",
        "    @staticmethod\n",
        "    def check_skill(text):\n",
        "        blob = TextBlob(text)\n",
        "        if blob.sentiment.polarity > 0.49:\n",
        "            return 'positive',blob.sentiment.subjectivity\n",
        "        elif blob.sentiment.polarity < 0:\n",
        "            return 'negative',blob.sentiment.subjectivity\n",
        "        return 'neutral', 0\n",
        "\n"
      ],
      "execution_count": 24,
      "outputs": []
    },
    {
      "cell_type": "code",
      "metadata": {
        "id": "ZilnoTYBYb0h",
        "colab_type": "code",
        "colab": {
          "base_uri": "https://localhost:8080/",
          "height": 85
        },
        "outputId": "00a712fa-25f6-4134-91e7-ac6c8ae93118"
      },
      "source": [
        "skill = EmojiSkill()\n",
        "text_message = 'Hey bot, are you happy?'\n",
        "skill.classify(text_message, {})"
      ],
      "execution_count": 34,
      "outputs": [
        {
          "output_type": "execute_result",
          "data": {
            "text/plain": [
              "{'answer': {'confidence_batch': [[1.0]],\n",
              "  'res_utterances': [['😎']],\n",
              "  'states': {}},\n",
              " 'name': 'ExampleSkill'}"
            ]
          },
          "metadata": {
            "tags": []
          },
          "execution_count": 34
        }
      ]
    },
    {
      "cell_type": "code",
      "metadata": {
        "id": "eH-1pL-jddr5",
        "colab_type": "code",
        "colab": {
          "base_uri": "https://localhost:8080/",
          "height": 85
        },
        "outputId": "047699bc-f161-4c49-972b-c1b0a33d534b"
      },
      "source": [
        "skill.classify('The weather is so nice today!) Im charmed', {})"
      ],
      "execution_count": 35,
      "outputs": [
        {
          "output_type": "execute_result",
          "data": {
            "text/plain": [
              "{'answer': {'confidence_batch': [[1.0]],\n",
              "  'res_utterances': [['🙃']],\n",
              "  'states': {}},\n",
              " 'name': 'ExampleSkill'}"
            ]
          },
          "metadata": {
            "tags": []
          },
          "execution_count": 35
        }
      ]
    },
    {
      "cell_type": "code",
      "metadata": {
        "id": "dRJvDDidebak",
        "colab_type": "code",
        "colab": {
          "base_uri": "https://localhost:8080/",
          "height": 85
        },
        "outputId": "42c80d3c-2df4-40c3-f8eb-3a6073c0462b"
      },
      "source": [
        "skill.classify('I feel so lonely', {})"
      ],
      "execution_count": 36,
      "outputs": [
        {
          "output_type": "execute_result",
          "data": {
            "text/plain": [
              "{'answer': {'confidence_batch': [[0.7]],\n",
              "  'res_utterances': [['😥']],\n",
              "  'states': {}},\n",
              " 'name': 'ExampleSkill'}"
            ]
          },
          "metadata": {
            "tags": []
          },
          "execution_count": 36
        }
      ]
    }
  ]
}