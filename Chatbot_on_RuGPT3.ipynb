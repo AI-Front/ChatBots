{
  "nbformat": 4,
  "nbformat_minor": 0,
  "metadata": {
    "accelerator": "GPU",
    "colab": {
      "name": "Chatbot_on_RuGPT3.ipynb",
      "provenance": [],
      "collapsed_sections": [],
      "include_colab_link": true
    },
    "kernelspec": {
      "display_name": "Python 3",
      "language": "python",
      "name": "python3"
    },
    "language_info": {
      "codemirror_mode": {
        "name": "ipython",
        "version": 3
      },
      "file_extension": ".py",
      "mimetype": "text/x-python",
      "name": "python",
      "nbconvert_exporter": "python",
      "pygments_lexer": "ipython3",
      "version": "3.7.8"
    }
  },
  "cells": [
    {
      "cell_type": "markdown",
      "metadata": {
        "id": "view-in-github",
        "colab_type": "text"
      },
      "source": [
        "<a href=\"https://colab.research.google.com/github/AI-Front/ChatBots/blob/master/Chatbot_on_RuGPT3.ipynb\" target=\"_parent\"><img src=\"https://colab.research.google.com/assets/colab-badge.svg\" alt=\"Open In Colab\"/></a>"
      ]
    },
    {
      "cell_type": "markdown",
      "metadata": {
        "id": "BO7MEGbb6mtB"
      },
      "source": [
        "# GPT3 Small общается по-русски\n",
        "Будем обучать ruGPT-3 small на открытых данных Диалогов [Яндекс.Толоки](https://research.yandex.com/datasets/toloka)\n",
        "\n",
        "\n",
        "## Установим библиотеки"
      ]
    },
    {
      "cell_type": "code",
      "metadata": {
        "id": "H73-Pizb6c8n",
        "colab": {
          "base_uri": "https://localhost:8080/"
        },
        "outputId": "90145e10-53bf-4116-b407-13e552591a06"
      },
      "source": [
        "!pip install torch==1.4.0\n",
        "!pip3 install transformers==3.5.0"
      ],
      "execution_count": 1,
      "outputs": [
        {
          "output_type": "stream",
          "text": [
            "Collecting torch==1.4.0\n",
            "\u001b[?25l  Downloading https://files.pythonhosted.org/packages/1a/3b/fa92ece1e58a6a48ec598bab327f39d69808133e5b2fb33002ca754e381e/torch-1.4.0-cp37-cp37m-manylinux1_x86_64.whl (753.4MB)\n",
            "\u001b[K     |████████████████████████████████| 753.4MB 23kB/s \n",
            "\u001b[31mERROR: torchvision 0.9.1+cu101 has requirement torch==1.8.1, but you'll have torch 1.4.0 which is incompatible.\u001b[0m\n",
            "\u001b[31mERROR: torchtext 0.9.1 has requirement torch==1.8.1, but you'll have torch 1.4.0 which is incompatible.\u001b[0m\n",
            "\u001b[?25hInstalling collected packages: torch\n",
            "  Found existing installation: torch 1.8.1+cu101\n",
            "    Uninstalling torch-1.8.1+cu101:\n",
            "      Successfully uninstalled torch-1.8.1+cu101\n",
            "Successfully installed torch-1.4.0\n",
            "Collecting transformers==3.5.0\n",
            "\u001b[?25l  Downloading https://files.pythonhosted.org/packages/9c/34/fb092588df61bf33f113ade030d1cbe74fb73a0353648f8dd938a223dce7/transformers-3.5.0-py3-none-any.whl (1.3MB)\n",
            "\u001b[K     |████████████████████████████████| 1.3MB 8.5MB/s \n",
            "\u001b[?25hRequirement already satisfied: numpy in /usr/local/lib/python3.7/dist-packages (from transformers==3.5.0) (1.19.5)\n",
            "Requirement already satisfied: filelock in /usr/local/lib/python3.7/dist-packages (from transformers==3.5.0) (3.0.12)\n",
            "Requirement already satisfied: regex!=2019.12.17 in /usr/local/lib/python3.7/dist-packages (from transformers==3.5.0) (2019.12.20)\n",
            "Requirement already satisfied: packaging in /usr/local/lib/python3.7/dist-packages (from transformers==3.5.0) (20.9)\n",
            "Requirement already satisfied: requests in /usr/local/lib/python3.7/dist-packages (from transformers==3.5.0) (2.23.0)\n",
            "Collecting tokenizers==0.9.3\n",
            "\u001b[?25l  Downloading https://files.pythonhosted.org/packages/7b/ac/f5ba028f0f097d855e1541301e946d4672eb0f30b6e25cb2369075f916d2/tokenizers-0.9.3-cp37-cp37m-manylinux1_x86_64.whl (2.9MB)\n",
            "\u001b[K     |████████████████████████████████| 2.9MB 43.7MB/s \n",
            "\u001b[?25hRequirement already satisfied: protobuf in /usr/local/lib/python3.7/dist-packages (from transformers==3.5.0) (3.12.4)\n",
            "Requirement already satisfied: tqdm>=4.27 in /usr/local/lib/python3.7/dist-packages (from transformers==3.5.0) (4.41.1)\n",
            "Collecting sacremoses\n",
            "\u001b[?25l  Downloading https://files.pythonhosted.org/packages/75/ee/67241dc87f266093c533a2d4d3d69438e57d7a90abb216fa076e7d475d4a/sacremoses-0.0.45-py3-none-any.whl (895kB)\n",
            "\u001b[K     |████████████████████████████████| 901kB 54.3MB/s \n",
            "\u001b[?25hCollecting sentencepiece==0.1.91\n",
            "\u001b[?25l  Downloading https://files.pythonhosted.org/packages/f2/e2/813dff3d72df2f49554204e7e5f73a3dc0f0eb1e3958a4cad3ef3fb278b7/sentencepiece-0.1.91-cp37-cp37m-manylinux1_x86_64.whl (1.1MB)\n",
            "\u001b[K     |████████████████████████████████| 1.1MB 50.7MB/s \n",
            "\u001b[?25hRequirement already satisfied: pyparsing>=2.0.2 in /usr/local/lib/python3.7/dist-packages (from packaging->transformers==3.5.0) (2.4.7)\n",
            "Requirement already satisfied: idna<3,>=2.5 in /usr/local/lib/python3.7/dist-packages (from requests->transformers==3.5.0) (2.10)\n",
            "Requirement already satisfied: urllib3!=1.25.0,!=1.25.1,<1.26,>=1.21.1 in /usr/local/lib/python3.7/dist-packages (from requests->transformers==3.5.0) (1.24.3)\n",
            "Requirement already satisfied: chardet<4,>=3.0.2 in /usr/local/lib/python3.7/dist-packages (from requests->transformers==3.5.0) (3.0.4)\n",
            "Requirement already satisfied: certifi>=2017.4.17 in /usr/local/lib/python3.7/dist-packages (from requests->transformers==3.5.0) (2020.12.5)\n",
            "Requirement already satisfied: six>=1.9 in /usr/local/lib/python3.7/dist-packages (from protobuf->transformers==3.5.0) (1.15.0)\n",
            "Requirement already satisfied: setuptools in /usr/local/lib/python3.7/dist-packages (from protobuf->transformers==3.5.0) (57.0.0)\n",
            "Requirement already satisfied: click in /usr/local/lib/python3.7/dist-packages (from sacremoses->transformers==3.5.0) (7.1.2)\n",
            "Requirement already satisfied: joblib in /usr/local/lib/python3.7/dist-packages (from sacremoses->transformers==3.5.0) (1.0.1)\n",
            "Installing collected packages: tokenizers, sacremoses, sentencepiece, transformers\n",
            "Successfully installed sacremoses-0.0.45 sentencepiece-0.1.91 tokenizers-0.9.3 transformers-3.5.0\n"
          ],
          "name": "stdout"
        }
      ]
    },
    {
      "cell_type": "code",
      "metadata": {
        "id": "RSV1JFFf6nrt",
        "colab": {
          "base_uri": "https://localhost:8080/"
        },
        "outputId": "6bc23f5a-eae1-4be1-92d8-27e3c978a509"
      },
      "source": [
        "!git clone  https://github.com/sberbank-ai/ru-gpts"
      ],
      "execution_count": 2,
      "outputs": [
        {
          "output_type": "stream",
          "text": [
            "Cloning into 'ru-gpts'...\n",
            "remote: Enumerating objects: 613, done.\u001b[K\n",
            "remote: Counting objects: 100% (108/108), done.\u001b[K\n",
            "remote: Compressing objects: 100% (49/49), done.\u001b[K\n",
            "remote: Total 613 (delta 66), reused 95 (delta 59), pack-reused 505\u001b[K\n",
            "Receiving objects: 100% (613/613), 360.92 KiB | 13.88 MiB/s, done.\n",
            "Resolving deltas: 100% (366/366), done.\n"
          ],
          "name": "stdout"
        }
      ]
    },
    {
      "cell_type": "code",
      "metadata": {
        "id": "WJZtWu8u6nwL"
      },
      "source": [
        "!mkdir models/"
      ],
      "execution_count": 3,
      "outputs": []
    },
    {
      "cell_type": "markdown",
      "metadata": {
        "id": "WqwZiumW8WbZ"
      },
      "source": [
        "## Скачиваем данные"
      ]
    },
    {
      "cell_type": "code",
      "metadata": {
        "id": "32ejGlREqMkC",
        "colab": {
          "base_uri": "https://localhost:8080/"
        },
        "outputId": "462298af-ff63-487e-fa2f-a776f2afca5e"
      },
      "source": [
        "!wget https://raw.githubusercontent.com/AI-Front/ChatBots/master/dialogues_clean_small.csv"
      ],
      "execution_count": 4,
      "outputs": [
        {
          "output_type": "stream",
          "text": [
            "--2021-06-03 07:36:59--  https://raw.githubusercontent.com/AI-Front/ChatBots/master/dialogues_clean_small.csv\n",
            "Resolving raw.githubusercontent.com (raw.githubusercontent.com)... 185.199.108.133, 185.199.109.133, 185.199.110.133, ...\n",
            "Connecting to raw.githubusercontent.com (raw.githubusercontent.com)|185.199.108.133|:443... connected.\n",
            "HTTP request sent, awaiting response... 200 OK\n",
            "Length: 9529360 (9.1M) [text/plain]\n",
            "Saving to: ‘dialogues_clean_small.csv’\n",
            "\n",
            "dialogues_clean_sma 100%[===================>]   9.09M  36.5MB/s    in 0.2s    \n",
            "\n",
            "2021-06-03 07:37:00 (36.5 MB/s) - ‘dialogues_clean_small.csv’ saved [9529360/9529360]\n",
            "\n"
          ],
          "name": "stdout"
        }
      ]
    },
    {
      "cell_type": "code",
      "metadata": {
        "id": "X2KVEMvoqX-S"
      },
      "source": [
        "import pandas as pd\n",
        "data = open('dialogues_clean_small.csv', 'r').readlines()"
      ],
      "execution_count": 5,
      "outputs": []
    },
    {
      "cell_type": "code",
      "metadata": {
        "id": "JDLZQ0XptB3L",
        "colab": {
          "base_uri": "https://localhost:8080/"
        },
        "outputId": "0cb48bdf-a5e9-4a4b-e30f-9fdfc74933f6"
      },
      "source": [
        "data[:3]"
      ],
      "execution_count": 6,
      "outputs": [
        {
          "output_type": "execute_result",
          "data": {
            "text/plain": [
              "['dialogue\\n',\n",
              " '<span class=participant_2>Пользователь 2: Привет) расскажи о себе</span><br /><span class=participant_1>Пользователь 1: Привет) под вкусный кофеек настроение поболтать появилось<br />)</span><br /><span class=participant_2>Пользователь 2: Что читаешь? Мне нравится классика</span><br /><span class=participant_2>Пользователь 2: Я тоже люблю пообщаться</span><br /><span class=participant_1>Пользователь 1: Люблю животных, просто обожаю, как и свою работу)</span><br /><span class=participant_1>Пользователь 1: Я фантастику люблю</span><br /><span class=participant_2>Пользователь 2: А я выращиваю фиалки</span><br /><span class=participant_2>Пользователь 2: И веду здоровый и активный образ жизни!</span><br /><span class=participant_1>Пользователь 1: Ух ты, интересно.</span><br /><span class=participant_2>Пользователь 2: Ты случайно не принц на белом коне? Я его очень жду<br />..</span><br /><span class=participant_1>Пользователь 1: А у меня из хобби каждую неделю тусить с моим лучшим<br />другом)</span><br />\\n',\n",
              " '<span class=participant_1>Пользователь 1: Привет!</span><br /><span class=participant_2>Пользователь 2: Привет,Как жизнь?</span><br /><span class=participant_1>Пользователь 1: Отлично) Солнышко светит, птички поют!</span><br /><span class=participant_2>Пользователь 2: Я вот сегодня понял, что меня тупо используют, всем<br />нужны от меня лишь деньги, ненавижу людей</span><br /><span class=participant_2>Пользователь 2: Чем занимаешься по жизни, я вот бизнесмен.</span><br /><span class=participant_1>Пользователь 1: А я вот учу детей, работаю с начальными классами</span><br /><span class=participant_1>Пользователь 1: Не все люди такие, как ты говоришь</span><br /><span class=participant_1>Пользователь 1: Помимо работы чем еще ты занимаешься?</span><br /><span class=participant_2>Пользователь 2: К свадьбе готовлюсь</span><br /><span class=participant_2>Пользователь 2: А ты?</span><br /><span class=participant_1>Пользователь 1: Вот видишь) значит, нашел такую женщину, которой не<br />нужны от тебя деньги</span><br /><span class=participant_2>Пользователь 2: Да я надеюсь на это,люблю ее</span><br />\\n']"
            ]
          },
          "metadata": {
            "tags": []
          },
          "execution_count": 6
        }
      ]
    },
    {
      "cell_type": "markdown",
      "metadata": {
        "id": "7erx2PCrtLqT"
      },
      "source": [
        "# Почистим наши данные"
      ]
    },
    {
      "cell_type": "code",
      "metadata": {
        "id": "uU7w6KfktKyo",
        "colab": {
          "base_uri": "https://localhost:8080/"
        },
        "outputId": "41b5facf-d634-4ad7-d8af-a6a6f2babc39"
      },
      "source": [
        "import os, re\n",
        "def clean_dialog(text):\n",
        "  text = re.sub('</span><br />', '', text)\n",
        "  text = re.sub('<br />', ' ', text)\n",
        "  text = re.sub('<span class=participant_2>', '\\n', text)\n",
        "  text = re.sub('<span class=participant_1>', '\\n', text)\n",
        "  text = text.strip('\\n')\n",
        "  return text\n",
        "\n",
        "print(clean_dialog(data[1]))"
      ],
      "execution_count": 7,
      "outputs": [
        {
          "output_type": "stream",
          "text": [
            "Пользователь 2: Привет) расскажи о себе\n",
            "Пользователь 1: Привет) под вкусный кофеек настроение поболтать появилось )\n",
            "Пользователь 2: Что читаешь? Мне нравится классика\n",
            "Пользователь 2: Я тоже люблю пообщаться\n",
            "Пользователь 1: Люблю животных, просто обожаю, как и свою работу)\n",
            "Пользователь 1: Я фантастику люблю\n",
            "Пользователь 2: А я выращиваю фиалки\n",
            "Пользователь 2: И веду здоровый и активный образ жизни!\n",
            "Пользователь 1: Ух ты, интересно.\n",
            "Пользователь 2: Ты случайно не принц на белом коне? Я его очень жду ..\n",
            "Пользователь 1: А у меня из хобби каждую неделю тусить с моим лучшим другом)\n"
          ],
          "name": "stdout"
        }
      ]
    },
    {
      "cell_type": "code",
      "metadata": {
        "id": "L16_5p5XuyDw"
      },
      "source": [
        "dialogs = [clean_dialog(d) for d in data[1:]]"
      ],
      "execution_count": 8,
      "outputs": []
    },
    {
      "cell_type": "code",
      "metadata": {
        "colab": {
          "base_uri": "https://localhost:8080/"
        },
        "id": "xSmm2yu3zLhq",
        "outputId": "cf14aec7-2d3f-4ed7-d178-d0f5ff872359"
      },
      "source": [
        "len(dialogs)"
      ],
      "execution_count": 9,
      "outputs": [
        {
          "output_type": "execute_result",
          "data": {
            "text/plain": [
              "3497"
            ]
          },
          "metadata": {
            "tags": []
          },
          "execution_count": 9
        }
      ]
    },
    {
      "cell_type": "code",
      "metadata": {
        "id": "CgG8n5KPw6mi"
      },
      "source": [
        "train = open('train.txt', 'w')\n",
        "valid = open('valid.txt', 'w')\n",
        "\n",
        "for d in dialogs[:500]:\n",
        "  train.write('<s>'+d+'</s>\\n')\n",
        "train.close()\n",
        "for d in dialogs[500:1000]:\n",
        "  valid.write('<s>'+d+'</s>\\n')\n",
        "valid.close()"
      ],
      "execution_count": 10,
      "outputs": []
    },
    {
      "cell_type": "markdown",
      "metadata": {
        "id": "zoyX62qN_38l"
      },
      "source": [
        "## Обучаем!\n",
        "The following code download our model and tokenizer from huggingface and finetune model for generating essays.\n",
        "\n",
        "This took aroung ten minutes and obtain perplexity = 13-16"
      ]
    },
    {
      "cell_type": "code",
      "metadata": {
        "id": "aZ-4Kav28cH0",
        "colab": {
          "base_uri": "https://localhost:8080/"
        },
        "outputId": "4533be8d-df9a-457e-9e8c-8e2494ee2c6d"
      },
      "source": [
        "!export PYTHONPATH=${PYTHONPATH}:/ru-gpts/\n",
        "!CUDA_VISIBLE_DEVICES=0 python ru-gpts/pretrain_transformers.py \\\n",
        "    --output_dir=models/chatbot \\\n",
        "    --model_type=gpt2 \\\n",
        "    --model_name_or_path=sberbank-ai/rugpt3small_based_on_gpt2 \\\n",
        "    --do_train \\\n",
        "    --train_data_file=train.txt \\\n",
        "    --do_eval \\\n",
        "    --eval_data_file=valid.txt \\\n",
        "    --per_gpu_train_batch_size 1 \\\n",
        "    --gradient_accumulation_steps 1 \\\n",
        "    --num_train_epochs 5 \\\n",
        "    --block_size 2048 \\\n",
        "    --overwrite_output_dir"
      ],
      "execution_count": 11,
      "outputs": [
        {
          "output_type": "stream",
          "text": [
            "2021-06-03 07:37:03.221059: I tensorflow/stream_executor/platform/default/dso_loader.cc:53] Successfully opened dynamic library libcudart.so.11.0\n",
            "06/03/2021 07:37:05 - WARNING - __main__ -   Process rank: -1, device: cuda, n_gpu: 1, distributed training: False, 16-bits training: False\n",
            "06/03/2021 07:37:06 - INFO - filelock -   Lock 140128742805328 acquired on /root/.cache/torch/transformers/06f48b6b3173390d047e15d691fda67ae4ea7733a5eea4b6e0115f5099c4e700.b5cdfa39c63384f94159c36bc9042660c747cea5cf520b43d543bd2c68b3164d.lock\n",
            "Downloading: 100% 608/608 [00:00<00:00, 309kB/s]\n",
            "06/03/2021 07:37:06 - INFO - filelock -   Lock 140128742805328 released on /root/.cache/torch/transformers/06f48b6b3173390d047e15d691fda67ae4ea7733a5eea4b6e0115f5099c4e700.b5cdfa39c63384f94159c36bc9042660c747cea5cf520b43d543bd2c68b3164d.lock\n",
            "06/03/2021 07:37:07 - INFO - filelock -   Lock 140128890132624 acquired on /root/.cache/torch/transformers/1b36eeb1fd7b3a6ec11bf46bde2c38e7e68f71ec774694b9e886c86001aab35d.c483bc3440d25937fdac74506b73b76ee6e67f778a804756214363fc2a1a66ef.lock\n",
            "Downloading: 100% 1.71M/1.71M [00:00<00:00, 6.52MB/s]\n",
            "06/03/2021 07:37:07 - INFO - filelock -   Lock 140128890132624 released on /root/.cache/torch/transformers/1b36eeb1fd7b3a6ec11bf46bde2c38e7e68f71ec774694b9e886c86001aab35d.c483bc3440d25937fdac74506b73b76ee6e67f778a804756214363fc2a1a66ef.lock\n",
            "06/03/2021 07:37:07 - INFO - filelock -   Lock 140128742854800 acquired on /root/.cache/torch/transformers/479aa59074c4dcd4c36106252da033d03bc92e3010947ce1d3714de224c2af1f.7362c0dbb32f750eeea5a5b93bbd0c6876eac41453369265d5a49df1c9142b6f.lock\n",
            "Downloading: 100% 1.27M/1.27M [00:00<00:00, 4.98MB/s]\n",
            "06/03/2021 07:37:08 - INFO - filelock -   Lock 140128742854800 released on /root/.cache/torch/transformers/479aa59074c4dcd4c36106252da033d03bc92e3010947ce1d3714de224c2af1f.7362c0dbb32f750eeea5a5b93bbd0c6876eac41453369265d5a49df1c9142b6f.lock\n",
            "/usr/local/lib/python3.7/dist-packages/transformers/tokenization_utils_base.py:1423: FutureWarning: The `max_len` attribute has been deprecated and will be removed in a future version, use `model_max_length` instead.\n",
            "  FutureWarning,\n",
            "/usr/local/lib/python3.7/dist-packages/transformers/modeling_auto.py:837: FutureWarning: The class `AutoModelWithLMHead` is deprecated and will be removed in a future version. Please use `AutoModelForCausalLM` for causal language models, `AutoModelForMaskedLM` for masked language models and `AutoModelForSeq2SeqLM` for encoder-decoder models.\n",
            "  FutureWarning,\n",
            "06/03/2021 07:37:10 - INFO - filelock -   Lock 140128719212176 acquired on /root/.cache/torch/transformers/df2b64a4c86a349ba84354d85b7117b106f2b87085c9bb54cde70d3751907c45.4e3da19dd8adaa6d6a9804bfd45d2dcf17ba544de445847443ef1816bfa3d693.lock\n",
            "Downloading: 100% 551M/551M [00:09<00:00, 60.7MB/s]\n",
            "06/03/2021 07:37:19 - INFO - filelock -   Lock 140128719212176 released on /root/.cache/torch/transformers/df2b64a4c86a349ba84354d85b7117b106f2b87085c9bb54cde70d3751907c45.4e3da19dd8adaa6d6a9804bfd45d2dcf17ba544de445847443ef1816bfa3d693.lock\n",
            "06/03/2021 07:37:25 - INFO - __main__ -   Training/evaluation parameters Namespace(adam_epsilon=1e-08, block_size=2048, cache_dir=None, config_name=None, device=device(type='cuda'), do_eval=True, do_train=True, eval_all_checkpoints=False, eval_data_file='valid.txt', evaluate_during_training=False, fp16=False, fp16_opt_level='O1', gradient_accumulation_steps=1, learning_rate=5e-05, line_by_line=False, local_rank=-1, logging_steps=500, max_grad_norm=1.0, max_steps=-1, mlm=False, mlm_probability=0.15, model_name_or_path='sberbank-ai/rugpt3small_based_on_gpt2', model_type='gpt2', n_gpu=1, no_cuda=False, num_train_epochs=5.0, output_dir='models/chatbot', overwrite_cache=False, overwrite_output_dir=True, per_gpu_eval_batch_size=4, per_gpu_train_batch_size=1, save_steps=500, save_total_limit=None, seed=42, server_ip='', server_port='', should_continue=False, tokenizer_name=None, train_data_file='train.txt', warmup_steps=0, weight_decay=0.01)\n",
            "06/03/2021 07:37:25 - INFO - __main__ -   Creating features from dataset file at \n",
            "06/03/2021 07:37:26 - INFO - __main__ -   Saving features into cached file gpt2_cached_lm_2048_train.txt\n",
            "06/03/2021 07:37:26 - INFO - __main__ -   ***** Running training *****\n",
            "06/03/2021 07:37:26 - INFO - __main__ -     Num examples = 74\n",
            "06/03/2021 07:37:26 - INFO - __main__ -     Num Epochs = 5\n",
            "06/03/2021 07:37:26 - INFO - __main__ -     Instantaneous batch size per GPU = 1\n",
            "06/03/2021 07:37:26 - INFO - __main__ -     Total train batch size (w. parallel, distributed & accumulation) = 1\n",
            "06/03/2021 07:37:26 - INFO - __main__ -     Gradient Accumulation steps = 1\n",
            "06/03/2021 07:37:26 - INFO - __main__ -     Total optimization steps = 370\n",
            "Epoch:   0% 0/5 [00:00<?, ?it/s]\n",
            "Iteration:   0% 0/74 [00:00<?, ?it/s]\u001b[A\n",
            "Iteration:   1% 1/74 [00:00<00:40,  1.82it/s]\u001b[A\n",
            "Iteration:   3% 2/74 [00:01<00:38,  1.85it/s]\u001b[A\n",
            "Iteration:   4% 3/74 [00:01<00:38,  1.87it/s]\u001b[A\n",
            "Iteration:   5% 4/74 [00:02<00:37,  1.88it/s]\u001b[A\n",
            "Iteration:   7% 5/74 [00:02<00:36,  1.89it/s]\u001b[A\n",
            "Iteration:   8% 6/74 [00:03<00:35,  1.89it/s]\u001b[A\n",
            "Iteration:   9% 7/74 [00:03<00:35,  1.90it/s]\u001b[A\n",
            "Iteration:  11% 8/74 [00:04<00:34,  1.90it/s]\u001b[A\n",
            "Iteration:  12% 9/74 [00:04<00:34,  1.90it/s]\u001b[A\n",
            "Iteration:  14% 10/74 [00:05<00:33,  1.90it/s]\u001b[A\n",
            "Iteration:  15% 11/74 [00:05<00:33,  1.91it/s]\u001b[A\n",
            "Iteration:  16% 12/74 [00:06<00:32,  1.91it/s]\u001b[A\n",
            "Iteration:  18% 13/74 [00:06<00:31,  1.91it/s]\u001b[A\n",
            "Iteration:  19% 14/74 [00:07<00:31,  1.91it/s]\u001b[A\n",
            "Iteration:  20% 15/74 [00:07<00:30,  1.91it/s]\u001b[A\n",
            "Iteration:  22% 16/74 [00:08<00:30,  1.91it/s]\u001b[A\n",
            "Iteration:  23% 17/74 [00:08<00:29,  1.91it/s]\u001b[A\n",
            "Iteration:  24% 18/74 [00:09<00:29,  1.91it/s]\u001b[A\n",
            "Iteration:  26% 19/74 [00:09<00:28,  1.91it/s]\u001b[A\n",
            "Iteration:  27% 20/74 [00:10<00:28,  1.91it/s]\u001b[A\n",
            "Iteration:  28% 21/74 [00:11<00:27,  1.91it/s]\u001b[A\n",
            "Iteration:  30% 22/74 [00:11<00:27,  1.91it/s]\u001b[A\n",
            "Iteration:  31% 23/74 [00:12<00:26,  1.91it/s]\u001b[A\n",
            "Iteration:  32% 24/74 [00:12<00:26,  1.91it/s]\u001b[A\n",
            "Iteration:  34% 25/74 [00:13<00:25,  1.91it/s]\u001b[A\n",
            "Iteration:  35% 26/74 [00:13<00:25,  1.91it/s]\u001b[A\n",
            "Iteration:  36% 27/74 [00:14<00:24,  1.91it/s]\u001b[A\n",
            "Iteration:  38% 28/74 [00:14<00:24,  1.91it/s]\u001b[A\n",
            "Iteration:  39% 29/74 [00:15<00:23,  1.91it/s]\u001b[A\n",
            "Iteration:  41% 30/74 [00:15<00:23,  1.91it/s]\u001b[A\n",
            "Iteration:  42% 31/74 [00:16<00:22,  1.91it/s]\u001b[A\n",
            "Iteration:  43% 32/74 [00:16<00:22,  1.91it/s]\u001b[A\n",
            "Iteration:  45% 33/74 [00:17<00:21,  1.91it/s]\u001b[A\n",
            "Iteration:  46% 34/74 [00:17<00:20,  1.91it/s]\u001b[A\n",
            "Iteration:  47% 35/74 [00:18<00:20,  1.91it/s]\u001b[A\n",
            "Iteration:  49% 36/74 [00:18<00:19,  1.91it/s]\u001b[A\n",
            "Iteration:  50% 37/74 [00:19<00:19,  1.91it/s]\u001b[A\n",
            "Iteration:  51% 38/74 [00:19<00:18,  1.91it/s]\u001b[A\n",
            "Iteration:  53% 39/74 [00:20<00:18,  1.91it/s]\u001b[A\n",
            "Iteration:  54% 40/74 [00:20<00:17,  1.91it/s]\u001b[A\n",
            "Iteration:  55% 41/74 [00:21<00:17,  1.91it/s]\u001b[A\n",
            "Iteration:  57% 42/74 [00:22<00:16,  1.91it/s]\u001b[A\n",
            "Iteration:  58% 43/74 [00:22<00:16,  1.91it/s]\u001b[A\n",
            "Iteration:  59% 44/74 [00:23<00:15,  1.91it/s]\u001b[A\n",
            "Iteration:  61% 45/74 [00:23<00:15,  1.91it/s]\u001b[A\n",
            "Iteration:  62% 46/74 [00:24<00:14,  1.91it/s]\u001b[A\n",
            "Iteration:  64% 47/74 [00:24<00:14,  1.91it/s]\u001b[A\n",
            "Iteration:  65% 48/74 [00:25<00:13,  1.91it/s]\u001b[A\n",
            "Iteration:  66% 49/74 [00:25<00:13,  1.91it/s]\u001b[A\n",
            "Iteration:  68% 50/74 [00:26<00:12,  1.91it/s]\u001b[A\n",
            "Iteration:  69% 51/74 [00:26<00:12,  1.91it/s]\u001b[A\n",
            "Iteration:  70% 52/74 [00:27<00:11,  1.91it/s]\u001b[A\n",
            "Iteration:  72% 53/74 [00:27<00:11,  1.91it/s]\u001b[A\n",
            "Iteration:  73% 54/74 [00:28<00:10,  1.91it/s]\u001b[A\n",
            "Iteration:  74% 55/74 [00:28<00:09,  1.91it/s]\u001b[A\n",
            "Iteration:  76% 56/74 [00:29<00:09,  1.91it/s]\u001b[A\n",
            "Iteration:  77% 57/74 [00:29<00:08,  1.91it/s]\u001b[A\n",
            "Iteration:  78% 58/74 [00:30<00:08,  1.91it/s]\u001b[A\n",
            "Iteration:  80% 59/74 [00:30<00:07,  1.91it/s]\u001b[A\n",
            "Iteration:  81% 60/74 [00:31<00:07,  1.91it/s]\u001b[A\n",
            "Iteration:  82% 61/74 [00:31<00:06,  1.91it/s]\u001b[A\n",
            "Iteration:  84% 62/74 [00:32<00:06,  1.91it/s]\u001b[A\n",
            "Iteration:  85% 63/74 [00:33<00:05,  1.91it/s]\u001b[A\n",
            "Iteration:  86% 64/74 [00:33<00:05,  1.91it/s]\u001b[A\n",
            "Iteration:  88% 65/74 [00:34<00:04,  1.91it/s]\u001b[A\n",
            "Iteration:  89% 66/74 [00:34<00:04,  1.91it/s]\u001b[A\n",
            "Iteration:  91% 67/74 [00:35<00:03,  1.91it/s]\u001b[A\n",
            "Iteration:  92% 68/74 [00:35<00:03,  1.91it/s]\u001b[A\n",
            "Iteration:  93% 69/74 [00:36<00:02,  1.91it/s]\u001b[A\n",
            "Iteration:  95% 70/74 [00:36<00:02,  1.91it/s]\u001b[A\n",
            "Iteration:  96% 71/74 [00:37<00:01,  1.91it/s]\u001b[A\n",
            "Iteration:  97% 72/74 [00:37<00:01,  1.91it/s]\u001b[A\n",
            "Iteration:  99% 73/74 [00:38<00:00,  1.91it/s]\u001b[A\n",
            "Iteration: 100% 74/74 [00:38<00:00,  1.91it/s]\n",
            "Epoch:  20% 1/5 [00:38<02:35, 38.80s/it]\n",
            "Iteration:   0% 0/74 [00:00<?, ?it/s]\u001b[A\n",
            "Iteration:   1% 1/74 [00:00<00:38,  1.91it/s]\u001b[A\n",
            "Iteration:   3% 2/74 [00:01<00:37,  1.91it/s]\u001b[A\n",
            "Iteration:   4% 3/74 [00:01<00:37,  1.91it/s]\u001b[A\n",
            "Iteration:   5% 4/74 [00:02<00:36,  1.91it/s]\u001b[A\n",
            "Iteration:   7% 5/74 [00:02<00:36,  1.91it/s]\u001b[A\n",
            "Iteration:   8% 6/74 [00:03<00:35,  1.91it/s]\u001b[A\n",
            "Iteration:   9% 7/74 [00:03<00:35,  1.91it/s]\u001b[A\n",
            "Iteration:  11% 8/74 [00:04<00:34,  1.90it/s]\u001b[A\n",
            "Iteration:  12% 9/74 [00:04<00:34,  1.91it/s]\u001b[A\n",
            "Iteration:  14% 10/74 [00:05<00:33,  1.91it/s]\u001b[A\n",
            "Iteration:  15% 11/74 [00:05<00:32,  1.91it/s]\u001b[A\n",
            "Iteration:  16% 12/74 [00:06<00:32,  1.91it/s]\u001b[A\n",
            "Iteration:  18% 13/74 [00:06<00:31,  1.91it/s]\u001b[A\n",
            "Iteration:  19% 14/74 [00:07<00:31,  1.91it/s]\u001b[A\n",
            "Iteration:  20% 15/74 [00:07<00:30,  1.91it/s]\u001b[A\n",
            "Iteration:  22% 16/74 [00:08<00:30,  1.91it/s]\u001b[A\n",
            "Iteration:  23% 17/74 [00:08<00:29,  1.91it/s]\u001b[A\n",
            "Iteration:  24% 18/74 [00:09<00:29,  1.91it/s]\u001b[A\n",
            "Iteration:  26% 19/74 [00:09<00:28,  1.91it/s]\u001b[A\n",
            "Iteration:  27% 20/74 [00:10<00:28,  1.91it/s]\u001b[A\n",
            "Iteration:  28% 21/74 [00:10<00:27,  1.91it/s]\u001b[A\n",
            "Iteration:  30% 22/74 [00:11<00:27,  1.91it/s]\u001b[A\n",
            "Iteration:  31% 23/74 [00:12<00:26,  1.91it/s]\u001b[A\n",
            "Iteration:  32% 24/74 [00:12<00:26,  1.91it/s]\u001b[A\n",
            "Iteration:  34% 25/74 [00:13<00:25,  1.91it/s]\u001b[A\n",
            "Iteration:  35% 26/74 [00:13<00:25,  1.91it/s]\u001b[A\n",
            "Iteration:  36% 27/74 [00:14<00:24,  1.91it/s]\u001b[A\n",
            "Iteration:  38% 28/74 [00:14<00:24,  1.91it/s]\u001b[A\n",
            "Iteration:  39% 29/74 [00:15<00:23,  1.91it/s]\u001b[A\n",
            "Iteration:  41% 30/74 [00:15<00:23,  1.91it/s]\u001b[A\n",
            "Iteration:  42% 31/74 [00:16<00:22,  1.91it/s]\u001b[A\n",
            "Iteration:  43% 32/74 [00:16<00:21,  1.91it/s]\u001b[A\n",
            "Iteration:  45% 33/74 [00:17<00:21,  1.91it/s]\u001b[A\n",
            "Iteration:  46% 34/74 [00:17<00:20,  1.91it/s]\u001b[A\n",
            "Iteration:  47% 35/74 [00:18<00:20,  1.91it/s]\u001b[A\n",
            "Iteration:  49% 36/74 [00:18<00:19,  1.91it/s]\u001b[A\n",
            "Iteration:  50% 37/74 [00:19<00:19,  1.91it/s]\u001b[A\n",
            "Iteration:  51% 38/74 [00:19<00:18,  1.91it/s]\u001b[A\n",
            "Iteration:  53% 39/74 [00:20<00:18,  1.91it/s]\u001b[A\n",
            "Iteration:  54% 40/74 [00:20<00:17,  1.91it/s]\u001b[A\n",
            "Iteration:  55% 41/74 [00:21<00:17,  1.91it/s]\u001b[A\n",
            "Iteration:  57% 42/74 [00:21<00:16,  1.91it/s]\u001b[A\n",
            "Iteration:  58% 43/74 [00:22<00:16,  1.91it/s]\u001b[A\n",
            "Iteration:  59% 44/74 [00:23<00:15,  1.91it/s]\u001b[A\n",
            "Iteration:  61% 45/74 [00:23<00:15,  1.91it/s]\u001b[A\n",
            "Iteration:  62% 46/74 [00:24<00:14,  1.91it/s]\u001b[A\n",
            "Iteration:  64% 47/74 [00:24<00:14,  1.91it/s]\u001b[A\n",
            "Iteration:  65% 48/74 [00:25<00:13,  1.91it/s]\u001b[A\n",
            "Iteration:  66% 49/74 [00:25<00:13,  1.91it/s]\u001b[A\n",
            "Iteration:  68% 50/74 [00:26<00:12,  1.91it/s]\u001b[A\n",
            "Iteration:  69% 51/74 [00:26<00:12,  1.91it/s]\u001b[A\n",
            "Iteration:  70% 52/74 [00:27<00:11,  1.91it/s]\u001b[A\n",
            "Iteration:  72% 53/74 [00:27<00:11,  1.91it/s]\u001b[A\n",
            "Iteration:  73% 54/74 [00:28<00:10,  1.91it/s]\u001b[A\n",
            "Iteration:  74% 55/74 [00:28<00:09,  1.91it/s]\u001b[A\n",
            "Iteration:  76% 56/74 [00:29<00:09,  1.91it/s]\u001b[A\n",
            "Iteration:  77% 57/74 [00:29<00:08,  1.91it/s]\u001b[A\n",
            "Iteration:  78% 58/74 [00:30<00:08,  1.91it/s]\u001b[A\n",
            "Iteration:  80% 59/74 [00:30<00:07,  1.91it/s]\u001b[A\n",
            "Iteration:  81% 60/74 [00:31<00:07,  1.91it/s]\u001b[A\n",
            "Iteration:  82% 61/74 [00:31<00:06,  1.91it/s]\u001b[A\n",
            "Iteration:  84% 62/74 [00:32<00:06,  1.91it/s]\u001b[A\n",
            "Iteration:  85% 63/74 [00:33<00:05,  1.91it/s]\u001b[A\n",
            "Iteration:  86% 64/74 [00:33<00:05,  1.90it/s]\u001b[A\n",
            "Iteration:  88% 65/74 [00:34<00:04,  1.91it/s]\u001b[A\n",
            "Iteration:  89% 66/74 [00:34<00:04,  1.91it/s]\u001b[A\n",
            "Iteration:  91% 67/74 [00:35<00:03,  1.91it/s]\u001b[A\n",
            "Iteration:  92% 68/74 [00:35<00:03,  1.91it/s]\u001b[A\n",
            "Iteration:  93% 69/74 [00:36<00:02,  1.91it/s]\u001b[A\n",
            "Iteration:  95% 70/74 [00:36<00:02,  1.91it/s]\u001b[A\n",
            "Iteration:  96% 71/74 [00:37<00:01,  1.91it/s]\u001b[A\n",
            "Iteration:  97% 72/74 [00:37<00:01,  1.91it/s]\u001b[A\n",
            "Iteration:  99% 73/74 [00:38<00:00,  1.91it/s]\u001b[A\n",
            "Iteration: 100% 74/74 [00:38<00:00,  1.91it/s]\n",
            "Epoch:  40% 2/5 [01:17<01:56, 38.79s/it]\n",
            "Iteration:   0% 0/74 [00:00<?, ?it/s]\u001b[A\n",
            "Iteration:   1% 1/74 [00:00<00:38,  1.91it/s]\u001b[A\n",
            "Iteration:   3% 2/74 [00:01<00:37,  1.91it/s]\u001b[A\n",
            "Iteration:   4% 3/74 [00:01<00:37,  1.91it/s]\u001b[A\n",
            "Iteration:   5% 4/74 [00:02<00:36,  1.91it/s]\u001b[A\n",
            "Iteration:   7% 5/74 [00:02<00:36,  1.91it/s]\u001b[A\n",
            "Iteration:   8% 6/74 [00:03<00:35,  1.91it/s]\u001b[A\n",
            "Iteration:   9% 7/74 [00:03<00:35,  1.91it/s]\u001b[A\n",
            "Iteration:  11% 8/74 [00:04<00:34,  1.91it/s]\u001b[A\n",
            "Iteration:  12% 9/74 [00:04<00:34,  1.91it/s]\u001b[A\n",
            "Iteration:  14% 10/74 [00:05<00:33,  1.90it/s]\u001b[A\n",
            "Iteration:  15% 11/74 [00:05<00:33,  1.91it/s]\u001b[A\n",
            "Iteration:  16% 12/74 [00:06<00:32,  1.91it/s]\u001b[A\n",
            "Iteration:  18% 13/74 [00:06<00:31,  1.91it/s]\u001b[A\n",
            "Iteration:  19% 14/74 [00:07<00:31,  1.91it/s]\u001b[A\n",
            "Iteration:  20% 15/74 [00:07<00:30,  1.91it/s]\u001b[A\n",
            "Iteration:  22% 16/74 [00:08<00:30,  1.91it/s]\u001b[A\n",
            "Iteration:  23% 17/74 [00:08<00:29,  1.90it/s]\u001b[A\n",
            "Iteration:  24% 18/74 [00:09<00:29,  1.91it/s]\u001b[A\n",
            "Iteration:  26% 19/74 [00:09<00:28,  1.91it/s]\u001b[A\n",
            "Iteration:  27% 20/74 [00:10<00:28,  1.91it/s]\u001b[A\n",
            "Iteration:  28% 21/74 [00:11<00:27,  1.91it/s]\u001b[A\n",
            "Iteration:  30% 22/74 [00:11<00:27,  1.91it/s]\u001b[A\n",
            "Iteration:  31% 23/74 [00:12<00:26,  1.91it/s]\u001b[A\n",
            "Iteration:  32% 24/74 [00:12<00:26,  1.91it/s]\u001b[A\n",
            "Iteration:  34% 25/74 [00:13<00:25,  1.91it/s]\u001b[A\n",
            "Iteration:  35% 26/74 [00:13<00:25,  1.91it/s]\u001b[A\n",
            "Iteration:  36% 27/74 [00:14<00:24,  1.91it/s]\u001b[A\n",
            "Iteration:  38% 28/74 [00:14<00:24,  1.91it/s]\u001b[A\n",
            "Iteration:  39% 29/74 [00:15<00:23,  1.90it/s]\u001b[A\n",
            "Iteration:  41% 30/74 [00:15<00:23,  1.90it/s]\u001b[A\n",
            "Iteration:  42% 31/74 [00:16<00:22,  1.91it/s]\u001b[A\n",
            "Iteration:  43% 32/74 [00:16<00:22,  1.91it/s]\u001b[A\n",
            "Iteration:  45% 33/74 [00:17<00:21,  1.91it/s]\u001b[A\n",
            "Iteration:  46% 34/74 [00:17<00:20,  1.91it/s]\u001b[A\n",
            "Iteration:  47% 35/74 [00:18<00:20,  1.91it/s]\u001b[A\n",
            "Iteration:  49% 36/74 [00:18<00:19,  1.91it/s]\u001b[A\n",
            "Iteration:  50% 37/74 [00:19<00:19,  1.91it/s]\u001b[A\n",
            "Iteration:  51% 38/74 [00:19<00:18,  1.91it/s]\u001b[A\n",
            "Iteration:  53% 39/74 [00:20<00:18,  1.91it/s]\u001b[A\n",
            "Iteration:  54% 40/74 [00:20<00:17,  1.91it/s]\u001b[A\n",
            "Iteration:  55% 41/74 [00:21<00:17,  1.91it/s]\u001b[A\n",
            "Iteration:  57% 42/74 [00:22<00:16,  1.91it/s]\u001b[A\n",
            "Iteration:  58% 43/74 [00:22<00:16,  1.91it/s]\u001b[A\n",
            "Iteration:  59% 44/74 [00:23<00:15,  1.90it/s]\u001b[A\n",
            "Iteration:  61% 45/74 [00:23<00:15,  1.90it/s]\u001b[A\n",
            "Iteration:  62% 46/74 [00:24<00:14,  1.90it/s]\u001b[A\n",
            "Iteration:  64% 47/74 [00:24<00:14,  1.91it/s]\u001b[A\n",
            "Iteration:  65% 48/74 [00:25<00:13,  1.91it/s]\u001b[A\n",
            "Iteration:  66% 49/74 [00:25<00:13,  1.91it/s]\u001b[A\n",
            "Iteration:  68% 50/74 [00:26<00:12,  1.91it/s]\u001b[A\n",
            "Iteration:  69% 51/74 [00:26<00:12,  1.91it/s]\u001b[A\n",
            "Iteration:  70% 52/74 [00:27<00:11,  1.91it/s]\u001b[A\n",
            "Iteration:  72% 53/74 [00:27<00:11,  1.91it/s]\u001b[A\n",
            "Iteration:  73% 54/74 [00:28<00:10,  1.91it/s]\u001b[A\n",
            "Iteration:  74% 55/74 [00:28<00:09,  1.91it/s]\u001b[A\n",
            "Iteration:  76% 56/74 [00:29<00:09,  1.91it/s]\u001b[A\n",
            "Iteration:  77% 57/74 [00:29<00:08,  1.91it/s]\u001b[A\n",
            "Iteration:  78% 58/74 [00:30<00:08,  1.91it/s]\u001b[A\n",
            "Iteration:  80% 59/74 [00:30<00:07,  1.91it/s]\u001b[A\n",
            "Iteration:  81% 60/74 [00:31<00:07,  1.91it/s]\u001b[A\n",
            "Iteration:  82% 61/74 [00:31<00:06,  1.91it/s]\u001b[A\n",
            "Iteration:  84% 62/74 [00:32<00:06,  1.91it/s]\u001b[A\n",
            "Iteration:  85% 63/74 [00:33<00:05,  1.91it/s]\u001b[A\n",
            "Iteration:  86% 64/74 [00:33<00:05,  1.90it/s]\u001b[A\n",
            "Iteration:  88% 65/74 [00:34<00:04,  1.90it/s]\u001b[A\n",
            "Iteration:  89% 66/74 [00:34<00:04,  1.90it/s]\u001b[A\n",
            "Iteration:  91% 67/74 [00:35<00:03,  1.90it/s]\u001b[A\n",
            "Iteration:  92% 68/74 [00:35<00:03,  1.91it/s]\u001b[A\n",
            "Iteration:  93% 69/74 [00:36<00:02,  1.91it/s]\u001b[A\n",
            "Iteration:  95% 70/74 [00:36<00:02,  1.90it/s]\u001b[A\n",
            "Iteration:  96% 71/74 [00:37<00:01,  1.91it/s]\u001b[A\n",
            "Iteration:  97% 72/74 [00:37<00:01,  1.91it/s]\u001b[A\n",
            "Iteration:  99% 73/74 [00:38<00:00,  1.91it/s]\u001b[A\n",
            "Iteration: 100% 74/74 [00:38<00:00,  1.91it/s]\n",
            "Epoch:  60% 3/5 [01:56<01:17, 38.80s/it]\n",
            "Iteration:   0% 0/74 [00:00<?, ?it/s]\u001b[A\n",
            "Iteration:   1% 1/74 [00:00<00:38,  1.90it/s]\u001b[A\n",
            "Iteration:   3% 2/74 [00:01<00:37,  1.90it/s]\u001b[A\n",
            "Iteration:   4% 3/74 [00:01<00:37,  1.91it/s]\u001b[A\n",
            "Iteration:   5% 4/74 [00:02<00:36,  1.91it/s]\u001b[A\n",
            "Iteration:   7% 5/74 [00:02<00:36,  1.90it/s]\u001b[A\n",
            "Iteration:   8% 6/74 [00:03<00:35,  1.91it/s]\u001b[A\n",
            "Iteration:   9% 7/74 [00:03<00:35,  1.91it/s]\u001b[A\n",
            "Iteration:  11% 8/74 [00:04<00:34,  1.91it/s]\u001b[A\n",
            "Iteration:  12% 9/74 [00:04<00:34,  1.91it/s]\u001b[A\n",
            "Iteration:  14% 10/74 [00:05<00:33,  1.91it/s]\u001b[A\n",
            "Iteration:  15% 11/74 [00:05<00:33,  1.91it/s]\u001b[A\n",
            "Iteration:  16% 12/74 [00:06<00:32,  1.91it/s]\u001b[A\n",
            "Iteration:  18% 13/74 [00:06<00:32,  1.90it/s]\u001b[A\n",
            "Iteration:  19% 14/74 [00:07<00:31,  1.90it/s]\u001b[A\n",
            "Iteration:  20% 15/74 [00:07<00:30,  1.91it/s]\u001b[A\n",
            "Iteration:  22% 16/74 [00:08<00:30,  1.91it/s]\u001b[A\n",
            "Iteration:  23% 17/74 [00:08<00:29,  1.91it/s]\u001b[A\n",
            "Iteration:  24% 18/74 [00:09<00:29,  1.91it/s]\u001b[A\n",
            "Iteration:  26% 19/74 [00:09<00:28,  1.90it/s]\u001b[A\n",
            "Iteration:  27% 20/74 [00:10<00:28,  1.91it/s]\u001b[A\n",
            "Iteration:  28% 21/74 [00:11<00:27,  1.91it/s]\u001b[A\n",
            "Iteration:  30% 22/74 [00:11<00:27,  1.91it/s]\u001b[A\n",
            "Iteration:  31% 23/74 [00:12<00:26,  1.91it/s]\u001b[A\n",
            "Iteration:  32% 24/74 [00:12<00:26,  1.91it/s]\u001b[A\n",
            "Iteration:  34% 25/74 [00:13<00:25,  1.91it/s]\u001b[A\n",
            "Iteration:  35% 26/74 [00:13<00:25,  1.91it/s]\u001b[A\n",
            "Iteration:  36% 27/74 [00:14<00:24,  1.91it/s]\u001b[A\n",
            "Iteration:  38% 28/74 [00:14<00:24,  1.91it/s]\u001b[A\n",
            "Iteration:  39% 29/74 [00:15<00:23,  1.91it/s]\u001b[A\n",
            "Iteration:  41% 30/74 [00:15<00:23,  1.91it/s]\u001b[A\n",
            "Iteration:  42% 31/74 [00:16<00:22,  1.91it/s]\u001b[A\n",
            "Iteration:  43% 32/74 [00:16<00:21,  1.91it/s]\u001b[A\n",
            "Iteration:  45% 33/74 [00:17<00:21,  1.91it/s]\u001b[A\n",
            "Iteration:  46% 34/74 [00:17<00:20,  1.91it/s]\u001b[A\n",
            "Iteration:  47% 35/74 [00:18<00:20,  1.91it/s]\u001b[A\n",
            "Iteration:  49% 36/74 [00:18<00:19,  1.91it/s]\u001b[A\n",
            "Iteration:  50% 37/74 [00:19<00:19,  1.91it/s]\u001b[A\n",
            "Iteration:  51% 38/74 [00:19<00:18,  1.91it/s]\u001b[A\n",
            "Iteration:  53% 39/74 [00:20<00:18,  1.91it/s]\u001b[A\n",
            "Iteration:  54% 40/74 [00:20<00:17,  1.91it/s]\u001b[A\n",
            "Iteration:  55% 41/74 [00:21<00:17,  1.91it/s]\u001b[A\n",
            "Iteration:  57% 42/74 [00:22<00:16,  1.91it/s]\u001b[A\n",
            "Iteration:  58% 43/74 [00:22<00:16,  1.91it/s]\u001b[A\n",
            "Iteration:  59% 44/74 [00:23<00:15,  1.91it/s]\u001b[A\n",
            "Iteration:  61% 45/74 [00:23<00:15,  1.91it/s]\u001b[A\n",
            "Iteration:  62% 46/74 [00:24<00:14,  1.91it/s]\u001b[A\n",
            "Iteration:  64% 47/74 [00:24<00:14,  1.90it/s]\u001b[A\n",
            "Iteration:  65% 48/74 [00:25<00:13,  1.90it/s]\u001b[A\n",
            "Iteration:  66% 49/74 [00:25<00:13,  1.90it/s]\u001b[A\n",
            "Iteration:  68% 50/74 [00:26<00:12,  1.91it/s]\u001b[A\n",
            "Iteration:  69% 51/74 [00:26<00:12,  1.91it/s]\u001b[A\n",
            "Iteration:  70% 52/74 [00:27<00:11,  1.91it/s]\u001b[A\n",
            "Iteration:  72% 53/74 [00:27<00:11,  1.91it/s]\u001b[A\n",
            "Iteration:  73% 54/74 [00:28<00:10,  1.91it/s]\u001b[A\n",
            "Iteration:  74% 55/74 [00:28<00:09,  1.91it/s]\u001b[A\n",
            "Iteration:  76% 56/74 [00:29<00:09,  1.91it/s]\u001b[A\n",
            "Iteration:  77% 57/74 [00:29<00:08,  1.91it/s]\u001b[A\n",
            "Iteration:  78% 58/74 [00:30<00:08,  1.91it/s]\u001b[A\n",
            "Iteration:  80% 59/74 [00:30<00:07,  1.91it/s]\u001b[A\n",
            "Iteration:  81% 60/74 [00:31<00:07,  1.91it/s]\u001b[A\n",
            "Iteration:  82% 61/74 [00:31<00:06,  1.91it/s]\u001b[A\n",
            "Iteration:  84% 62/74 [00:32<00:06,  1.91it/s]\u001b[A\n",
            "Iteration:  85% 63/74 [00:33<00:05,  1.91it/s]\u001b[A\n",
            "Iteration:  86% 64/74 [00:33<00:05,  1.91it/s]\u001b[A\n",
            "Iteration:  88% 65/74 [00:34<00:04,  1.91it/s]\u001b[A\n",
            "Iteration:  89% 66/74 [00:34<00:04,  1.91it/s]\u001b[A\n",
            "Iteration:  91% 67/74 [00:35<00:03,  1.91it/s]\u001b[A\n",
            "Iteration:  92% 68/74 [00:35<00:03,  1.91it/s]\u001b[A\n",
            "Iteration:  93% 69/74 [00:36<00:02,  1.91it/s]\u001b[A\n",
            "Iteration:  95% 70/74 [00:36<00:02,  1.91it/s]\u001b[A\n",
            "Iteration:  96% 71/74 [00:37<00:01,  1.91it/s]\u001b[A\n",
            "Iteration:  97% 72/74 [00:37<00:01,  1.91it/s]\u001b[A\n",
            "Iteration:  99% 73/74 [00:38<00:00,  1.91it/s]\u001b[A\n",
            "Iteration: 100% 74/74 [00:38<00:00,  1.91it/s]\n",
            "Epoch:  80% 4/5 [02:35<00:38, 38.80s/it]\n",
            "Iteration:   0% 0/74 [00:00<?, ?it/s]\u001b[A\n",
            "Iteration:   1% 1/74 [00:00<00:38,  1.90it/s]\u001b[A\n",
            "Iteration:   3% 2/74 [00:01<00:37,  1.90it/s]\u001b[A\n",
            "Iteration:   4% 3/74 [00:01<00:37,  1.91it/s]\u001b[A\n",
            "Iteration:   5% 4/74 [00:02<00:36,  1.91it/s]\u001b[A\n",
            "Iteration:   7% 5/74 [00:02<00:36,  1.90it/s]\u001b[A\n",
            "Iteration:   8% 6/74 [00:03<00:35,  1.91it/s]\u001b[A\n",
            "Iteration:   9% 7/74 [00:03<00:35,  1.91it/s]\u001b[A\n",
            "Iteration:  11% 8/74 [00:04<00:34,  1.91it/s]\u001b[A\n",
            "Iteration:  12% 9/74 [00:04<00:34,  1.91it/s]\u001b[A\n",
            "Iteration:  14% 10/74 [00:05<00:33,  1.91it/s]\u001b[A\n",
            "Iteration:  15% 11/74 [00:05<00:33,  1.91it/s]\u001b[A\n",
            "Iteration:  16% 12/74 [00:06<00:32,  1.91it/s]\u001b[A\n",
            "Iteration:  18% 13/74 [00:06<00:31,  1.91it/s]\u001b[A\n",
            "Iteration:  19% 14/74 [00:07<00:31,  1.91it/s]\u001b[A\n",
            "Iteration:  20% 15/74 [00:07<00:30,  1.91it/s]\u001b[A\n",
            "Iteration:  22% 16/74 [00:08<00:30,  1.91it/s]\u001b[A\n",
            "Iteration:  23% 17/74 [00:08<00:29,  1.91it/s]\u001b[A\n",
            "Iteration:  24% 18/74 [00:09<00:29,  1.91it/s]\u001b[A\n",
            "Iteration:  26% 19/74 [00:09<00:28,  1.91it/s]\u001b[A\n",
            "Iteration:  27% 20/74 [00:10<00:28,  1.91it/s]\u001b[A\n",
            "Iteration:  28% 21/74 [00:11<00:27,  1.91it/s]\u001b[A\n",
            "Iteration:  30% 22/74 [00:11<00:27,  1.91it/s]\u001b[A\n",
            "Iteration:  31% 23/74 [00:12<00:26,  1.91it/s]\u001b[A\n",
            "Iteration:  32% 24/74 [00:12<00:26,  1.91it/s]\u001b[A\n",
            "Iteration:  34% 25/74 [00:13<00:25,  1.91it/s]\u001b[A\n",
            "Iteration:  35% 26/74 [00:13<00:25,  1.91it/s]\u001b[A\n",
            "Iteration:  36% 27/74 [00:14<00:24,  1.91it/s]\u001b[A\n",
            "Iteration:  38% 28/74 [00:14<00:24,  1.91it/s]\u001b[A\n",
            "Iteration:  39% 29/74 [00:15<00:23,  1.91it/s]\u001b[A\n",
            "Iteration:  41% 30/74 [00:15<00:23,  1.90it/s]\u001b[A\n",
            "Iteration:  42% 31/74 [00:16<00:22,  1.90it/s]\u001b[A\n",
            "Iteration:  43% 32/74 [00:16<00:22,  1.90it/s]\u001b[A\n",
            "Iteration:  45% 33/74 [00:17<00:21,  1.91it/s]\u001b[A\n",
            "Iteration:  46% 34/74 [00:17<00:20,  1.91it/s]\u001b[A\n",
            "Iteration:  47% 35/74 [00:18<00:20,  1.91it/s]\u001b[A\n",
            "Iteration:  49% 36/74 [00:18<00:19,  1.91it/s]\u001b[A\n",
            "Iteration:  50% 37/74 [00:19<00:19,  1.91it/s]\u001b[A\n",
            "Iteration:  51% 38/74 [00:19<00:18,  1.91it/s]\u001b[A\n",
            "Iteration:  53% 39/74 [00:20<00:18,  1.91it/s]\u001b[A\n",
            "Iteration:  54% 40/74 [00:20<00:17,  1.91it/s]\u001b[A\n",
            "Iteration:  55% 41/74 [00:21<00:17,  1.90it/s]\u001b[A\n",
            "Iteration:  57% 42/74 [00:22<00:16,  1.90it/s]\u001b[A\n",
            "Iteration:  58% 43/74 [00:22<00:16,  1.91it/s]\u001b[A\n",
            "Iteration:  59% 44/74 [00:23<00:15,  1.91it/s]\u001b[A\n",
            "Iteration:  61% 45/74 [00:23<00:15,  1.91it/s]\u001b[A\n",
            "Iteration:  62% 46/74 [00:24<00:14,  1.90it/s]\u001b[A\n",
            "Iteration:  64% 47/74 [00:24<00:14,  1.91it/s]\u001b[A\n",
            "Iteration:  65% 48/74 [00:25<00:13,  1.91it/s]\u001b[A\n",
            "Iteration:  66% 49/74 [00:25<00:13,  1.91it/s]\u001b[A\n",
            "Iteration:  68% 50/74 [00:26<00:12,  1.91it/s]\u001b[A\n",
            "Iteration:  69% 51/74 [00:26<00:12,  1.90it/s]\u001b[A\n",
            "Iteration:  70% 52/74 [00:27<00:11,  1.91it/s]\u001b[A\n",
            "Iteration:  72% 53/74 [00:27<00:11,  1.91it/s]\u001b[A\n",
            "Iteration:  73% 54/74 [00:28<00:10,  1.91it/s]\u001b[A\n",
            "Iteration:  74% 55/74 [00:28<00:09,  1.91it/s]\u001b[A\n",
            "Iteration:  76% 56/74 [00:29<00:09,  1.90it/s]\u001b[A\n",
            "Iteration:  77% 57/74 [00:29<00:08,  1.91it/s]\u001b[A\n",
            "Iteration:  78% 58/74 [00:30<00:08,  1.91it/s]\u001b[A\n",
            "Iteration:  80% 59/74 [00:30<00:07,  1.91it/s]\u001b[A\n",
            "Iteration:  81% 60/74 [00:31<00:07,  1.91it/s]\u001b[A\n",
            "Iteration:  82% 61/74 [00:31<00:06,  1.91it/s]\u001b[A\n",
            "Iteration:  84% 62/74 [00:32<00:06,  1.91it/s]\u001b[A\n",
            "Iteration:  85% 63/74 [00:33<00:05,  1.91it/s]\u001b[A\n",
            "Iteration:  86% 64/74 [00:33<00:05,  1.91it/s]\u001b[A\n",
            "Iteration:  88% 65/74 [00:34<00:04,  1.91it/s]\u001b[A\n",
            "Iteration:  89% 66/74 [00:34<00:04,  1.91it/s]\u001b[A\n",
            "Iteration:  91% 67/74 [00:35<00:03,  1.91it/s]\u001b[A\n",
            "Iteration:  92% 68/74 [00:35<00:03,  1.91it/s]\u001b[A\n",
            "Iteration:  93% 69/74 [00:36<00:02,  1.91it/s]\u001b[A\n",
            "Iteration:  95% 70/74 [00:36<00:02,  1.91it/s]\u001b[A\n",
            "Iteration:  96% 71/74 [00:37<00:01,  1.91it/s]\u001b[A\n",
            "Iteration:  97% 72/74 [00:37<00:01,  1.91it/s]\u001b[A\n",
            "Iteration:  99% 73/74 [00:38<00:00,  1.91it/s]\u001b[A\n",
            "Iteration: 100% 74/74 [00:38<00:00,  1.91it/s]\n",
            "Epoch: 100% 5/5 [03:13<00:00, 38.80s/it]\n",
            "06/03/2021 07:40:40 - INFO - __main__ -    global_step = 370, average loss = 1.9399377819654104\n",
            "06/03/2021 07:40:40 - INFO - __main__ -   Saving model checkpoint to models/chatbot\n",
            "06/03/2021 07:40:46 - INFO - __main__ -   Evaluate the following checkpoints: ['models/chatbot']\n",
            "06/03/2021 07:40:49 - INFO - __main__ -   Creating features from dataset file at \n",
            "06/03/2021 07:40:51 - INFO - __main__ -   Saving features into cached file gpt2_cached_lm_2048_valid.txt\n",
            "06/03/2021 07:40:51 - INFO - __main__ -   ***** Running evaluation  *****\n",
            "06/03/2021 07:40:51 - INFO - __main__ -     Num examples = 74\n",
            "06/03/2021 07:40:51 - INFO - __main__ -     Batch size = 4\n",
            "Evaluating: 100% 19/19 [00:12<00:00,  1.50it/s]\n",
            "06/03/2021 07:41:03 - INFO - __main__ -   ***** Eval results  *****\n",
            "06/03/2021 07:41:03 - INFO - __main__ -     perplexity = tensor(9.3496)\n"
          ],
          "name": "stdout"
        }
      ]
    },
    {
      "cell_type": "markdown",
      "metadata": {
        "id": "QvgntLymArg3"
      },
      "source": [
        "## Оценим результаты\n"
      ]
    },
    {
      "cell_type": "markdown",
      "metadata": {
        "id": "K7_jIWhVBKay"
      },
      "source": [
        "### Генерируем вручную"
      ]
    },
    {
      "cell_type": "code",
      "metadata": {
        "id": "csHcDJXFDdaW",
        "colab": {
          "base_uri": "https://localhost:8080/"
        },
        "outputId": "0e238503-3929-4533-d2e4-8d988e378e68"
      },
      "source": [
        "import numpy as np\n",
        "import torch\n",
        "np.random.seed(42)\n",
        "torch.manual_seed(42)\n",
        "from transformers import GPT2LMHeadModel, GPT2Tokenizer\n",
        "from nltk import sent_tokenize\n",
        "import nltk\n",
        "nltk.download('punkt')"
      ],
      "execution_count": 28,
      "outputs": [
        {
          "output_type": "stream",
          "text": [
            "[nltk_data] Downloading package punkt to /root/nltk_data...\n",
            "[nltk_data]   Unzipping tokenizers/punkt.zip.\n"
          ],
          "name": "stdout"
        },
        {
          "output_type": "execute_result",
          "data": {
            "text/plain": [
              "True"
            ]
          },
          "metadata": {
            "tags": []
          },
          "execution_count": 28
        }
      ]
    },
    {
      "cell_type": "code",
      "metadata": {
        "id": "Fjy0GAuQBYpA",
        "colab": {
          "base_uri": "https://localhost:8080/"
        },
        "outputId": "581da251-4bcf-463f-80a7-45a59d3690e5"
      },
      "source": [
        "tok = GPT2Tokenizer.from_pretrained(\"models/chatbot\")\n",
        "model = GPT2LMHeadModel.from_pretrained(\"models/chatbot\")\n",
        "model.cuda()"
      ],
      "execution_count": 14,
      "outputs": [
        {
          "output_type": "execute_result",
          "data": {
            "text/plain": [
              "GPT2LMHeadModel(\n",
              "  (transformer): GPT2Model(\n",
              "    (wte): Embedding(50257, 768)\n",
              "    (wpe): Embedding(2048, 768)\n",
              "    (drop): Dropout(p=0.1, inplace=False)\n",
              "    (h): ModuleList(\n",
              "      (0): Block(\n",
              "        (ln_1): LayerNorm((768,), eps=1e-05, elementwise_affine=True)\n",
              "        (attn): Attention(\n",
              "          (c_attn): Conv1D()\n",
              "          (c_proj): Conv1D()\n",
              "          (attn_dropout): Dropout(p=0.1, inplace=False)\n",
              "          (resid_dropout): Dropout(p=0.1, inplace=False)\n",
              "        )\n",
              "        (ln_2): LayerNorm((768,), eps=1e-05, elementwise_affine=True)\n",
              "        (mlp): MLP(\n",
              "          (c_fc): Conv1D()\n",
              "          (c_proj): Conv1D()\n",
              "          (dropout): Dropout(p=0.1, inplace=False)\n",
              "        )\n",
              "      )\n",
              "      (1): Block(\n",
              "        (ln_1): LayerNorm((768,), eps=1e-05, elementwise_affine=True)\n",
              "        (attn): Attention(\n",
              "          (c_attn): Conv1D()\n",
              "          (c_proj): Conv1D()\n",
              "          (attn_dropout): Dropout(p=0.1, inplace=False)\n",
              "          (resid_dropout): Dropout(p=0.1, inplace=False)\n",
              "        )\n",
              "        (ln_2): LayerNorm((768,), eps=1e-05, elementwise_affine=True)\n",
              "        (mlp): MLP(\n",
              "          (c_fc): Conv1D()\n",
              "          (c_proj): Conv1D()\n",
              "          (dropout): Dropout(p=0.1, inplace=False)\n",
              "        )\n",
              "      )\n",
              "      (2): Block(\n",
              "        (ln_1): LayerNorm((768,), eps=1e-05, elementwise_affine=True)\n",
              "        (attn): Attention(\n",
              "          (c_attn): Conv1D()\n",
              "          (c_proj): Conv1D()\n",
              "          (attn_dropout): Dropout(p=0.1, inplace=False)\n",
              "          (resid_dropout): Dropout(p=0.1, inplace=False)\n",
              "        )\n",
              "        (ln_2): LayerNorm((768,), eps=1e-05, elementwise_affine=True)\n",
              "        (mlp): MLP(\n",
              "          (c_fc): Conv1D()\n",
              "          (c_proj): Conv1D()\n",
              "          (dropout): Dropout(p=0.1, inplace=False)\n",
              "        )\n",
              "      )\n",
              "      (3): Block(\n",
              "        (ln_1): LayerNorm((768,), eps=1e-05, elementwise_affine=True)\n",
              "        (attn): Attention(\n",
              "          (c_attn): Conv1D()\n",
              "          (c_proj): Conv1D()\n",
              "          (attn_dropout): Dropout(p=0.1, inplace=False)\n",
              "          (resid_dropout): Dropout(p=0.1, inplace=False)\n",
              "        )\n",
              "        (ln_2): LayerNorm((768,), eps=1e-05, elementwise_affine=True)\n",
              "        (mlp): MLP(\n",
              "          (c_fc): Conv1D()\n",
              "          (c_proj): Conv1D()\n",
              "          (dropout): Dropout(p=0.1, inplace=False)\n",
              "        )\n",
              "      )\n",
              "      (4): Block(\n",
              "        (ln_1): LayerNorm((768,), eps=1e-05, elementwise_affine=True)\n",
              "        (attn): Attention(\n",
              "          (c_attn): Conv1D()\n",
              "          (c_proj): Conv1D()\n",
              "          (attn_dropout): Dropout(p=0.1, inplace=False)\n",
              "          (resid_dropout): Dropout(p=0.1, inplace=False)\n",
              "        )\n",
              "        (ln_2): LayerNorm((768,), eps=1e-05, elementwise_affine=True)\n",
              "        (mlp): MLP(\n",
              "          (c_fc): Conv1D()\n",
              "          (c_proj): Conv1D()\n",
              "          (dropout): Dropout(p=0.1, inplace=False)\n",
              "        )\n",
              "      )\n",
              "      (5): Block(\n",
              "        (ln_1): LayerNorm((768,), eps=1e-05, elementwise_affine=True)\n",
              "        (attn): Attention(\n",
              "          (c_attn): Conv1D()\n",
              "          (c_proj): Conv1D()\n",
              "          (attn_dropout): Dropout(p=0.1, inplace=False)\n",
              "          (resid_dropout): Dropout(p=0.1, inplace=False)\n",
              "        )\n",
              "        (ln_2): LayerNorm((768,), eps=1e-05, elementwise_affine=True)\n",
              "        (mlp): MLP(\n",
              "          (c_fc): Conv1D()\n",
              "          (c_proj): Conv1D()\n",
              "          (dropout): Dropout(p=0.1, inplace=False)\n",
              "        )\n",
              "      )\n",
              "      (6): Block(\n",
              "        (ln_1): LayerNorm((768,), eps=1e-05, elementwise_affine=True)\n",
              "        (attn): Attention(\n",
              "          (c_attn): Conv1D()\n",
              "          (c_proj): Conv1D()\n",
              "          (attn_dropout): Dropout(p=0.1, inplace=False)\n",
              "          (resid_dropout): Dropout(p=0.1, inplace=False)\n",
              "        )\n",
              "        (ln_2): LayerNorm((768,), eps=1e-05, elementwise_affine=True)\n",
              "        (mlp): MLP(\n",
              "          (c_fc): Conv1D()\n",
              "          (c_proj): Conv1D()\n",
              "          (dropout): Dropout(p=0.1, inplace=False)\n",
              "        )\n",
              "      )\n",
              "      (7): Block(\n",
              "        (ln_1): LayerNorm((768,), eps=1e-05, elementwise_affine=True)\n",
              "        (attn): Attention(\n",
              "          (c_attn): Conv1D()\n",
              "          (c_proj): Conv1D()\n",
              "          (attn_dropout): Dropout(p=0.1, inplace=False)\n",
              "          (resid_dropout): Dropout(p=0.1, inplace=False)\n",
              "        )\n",
              "        (ln_2): LayerNorm((768,), eps=1e-05, elementwise_affine=True)\n",
              "        (mlp): MLP(\n",
              "          (c_fc): Conv1D()\n",
              "          (c_proj): Conv1D()\n",
              "          (dropout): Dropout(p=0.1, inplace=False)\n",
              "        )\n",
              "      )\n",
              "      (8): Block(\n",
              "        (ln_1): LayerNorm((768,), eps=1e-05, elementwise_affine=True)\n",
              "        (attn): Attention(\n",
              "          (c_attn): Conv1D()\n",
              "          (c_proj): Conv1D()\n",
              "          (attn_dropout): Dropout(p=0.1, inplace=False)\n",
              "          (resid_dropout): Dropout(p=0.1, inplace=False)\n",
              "        )\n",
              "        (ln_2): LayerNorm((768,), eps=1e-05, elementwise_affine=True)\n",
              "        (mlp): MLP(\n",
              "          (c_fc): Conv1D()\n",
              "          (c_proj): Conv1D()\n",
              "          (dropout): Dropout(p=0.1, inplace=False)\n",
              "        )\n",
              "      )\n",
              "      (9): Block(\n",
              "        (ln_1): LayerNorm((768,), eps=1e-05, elementwise_affine=True)\n",
              "        (attn): Attention(\n",
              "          (c_attn): Conv1D()\n",
              "          (c_proj): Conv1D()\n",
              "          (attn_dropout): Dropout(p=0.1, inplace=False)\n",
              "          (resid_dropout): Dropout(p=0.1, inplace=False)\n",
              "        )\n",
              "        (ln_2): LayerNorm((768,), eps=1e-05, elementwise_affine=True)\n",
              "        (mlp): MLP(\n",
              "          (c_fc): Conv1D()\n",
              "          (c_proj): Conv1D()\n",
              "          (dropout): Dropout(p=0.1, inplace=False)\n",
              "        )\n",
              "      )\n",
              "      (10): Block(\n",
              "        (ln_1): LayerNorm((768,), eps=1e-05, elementwise_affine=True)\n",
              "        (attn): Attention(\n",
              "          (c_attn): Conv1D()\n",
              "          (c_proj): Conv1D()\n",
              "          (attn_dropout): Dropout(p=0.1, inplace=False)\n",
              "          (resid_dropout): Dropout(p=0.1, inplace=False)\n",
              "        )\n",
              "        (ln_2): LayerNorm((768,), eps=1e-05, elementwise_affine=True)\n",
              "        (mlp): MLP(\n",
              "          (c_fc): Conv1D()\n",
              "          (c_proj): Conv1D()\n",
              "          (dropout): Dropout(p=0.1, inplace=False)\n",
              "        )\n",
              "      )\n",
              "      (11): Block(\n",
              "        (ln_1): LayerNorm((768,), eps=1e-05, elementwise_affine=True)\n",
              "        (attn): Attention(\n",
              "          (c_attn): Conv1D()\n",
              "          (c_proj): Conv1D()\n",
              "          (attn_dropout): Dropout(p=0.1, inplace=False)\n",
              "          (resid_dropout): Dropout(p=0.1, inplace=False)\n",
              "        )\n",
              "        (ln_2): LayerNorm((768,), eps=1e-05, elementwise_affine=True)\n",
              "        (mlp): MLP(\n",
              "          (c_fc): Conv1D()\n",
              "          (c_proj): Conv1D()\n",
              "          (dropout): Dropout(p=0.1, inplace=False)\n",
              "        )\n",
              "      )\n",
              "    )\n",
              "    (ln_f): LayerNorm((768,), eps=1e-05, elementwise_affine=True)\n",
              "  )\n",
              "  (lm_head): Linear(in_features=768, out_features=50257, bias=False)\n",
              ")"
            ]
          },
          "metadata": {
            "tags": []
          },
          "execution_count": 14
        }
      ]
    },
    {
      "cell_type": "code",
      "metadata": {
        "id": "g7xEpqpP0GJT"
      },
      "source": [
        "def clean_text(messages=[]):\n",
        "  for i in range(len(messages)):\n",
        "    if i% 2 == 0:\n",
        "      messages[i] = 'Пользователь 1:'+messages[i]\n",
        "      last = 'Пользователь 1:'\n",
        "    else:\n",
        "      messages[i] = 'Пользователь 2:'+messages[i]\n",
        "      last = 'Пользователь 2:'\n",
        "  messages = \"<s>\"+'\\n'.join(messages)\n",
        "  if last=='Пользователь 2:':\n",
        "    last = 'Пользователь 1:'\n",
        "    messages+='\\nПользователь 1:'\n",
        "  else:\n",
        "    last = 'Пользователь 2:'\n",
        "    messages+='\\nПользователь 2:'\n",
        "  return messages, last\n"
      ],
      "execution_count": 32,
      "outputs": []
    },
    {
      "cell_type": "code",
      "metadata": {
        "id": "irh4H-HDBb6V"
      },
      "source": [
        "def generate_dialog(messages):\n",
        "  message, last = clean_text(messages)\n",
        "  inpt = tok.encode(message, return_tensors=\"pt\")\n",
        "  out = model.generate(inpt.cuda(), max_length=500, repetition_penalty=5.0, do_sample=True, top_k=5, top_p=0.95, temperature=1)\n",
        "  text = tok.decode(out[0])\n",
        "  #print(last)\n",
        "  text = re.split(last, text)[-1]\n",
        "  text = ' '.join(sent_tokenize(text)[:6]\n",
        "                  )\n",
        "  return text.split('\\n')[0]"
      ],
      "execution_count": 33,
      "outputs": []
    },
    {
      "cell_type": "code",
      "metadata": {
        "id": "hQY6A5q7Bd4O",
        "colab": {
          "base_uri": "https://localhost:8080/"
        },
        "outputId": "5b39d648-8839-4ac1-d5c3-e12272e576ab"
      },
      "source": [
        "messages = [\"Привет! Как дела?\"]\n",
        "print(generate_dialog(messages))"
      ],
      "execution_count": 34,
      "outputs": [
        {
          "output_type": "stream",
          "text": [
            "Setting `pad_token_id` to `eos_token_id`:50256 for open-end generation.\n"
          ],
          "name": "stderr"
        },
        {
          "output_type": "stream",
          "text": [
            " Привет, отлично. Чем занимаешься?) Я работаю учителем математики) а ты чем любишь заниматься?)) А я люблю готовить. И у меня есть котёнок ^_~😊👍❤️ ✋\"\"\" \n",
            " 5 лет назад мы переехали в город Сочи, там и познакомились с новыми друзьями )) Сейчас живем на улице Мира (сейчас проспект Ленина д 161 ) очень уютная атмосфера ))) Очень нравится эта улица для прогулок по вечерам :) Люблю проводить время со своим любимым котиком Мишей))) Он такой милый... пушистый :3 </smfi] СПА-ЛЯРТЕ! МНЕ ПОДРАЖИЛОСЬ У ТЕБЯ С КОРОЛЕМ МИШЕЙ!!!\n"
          ],
          "name": "stdout"
        }
      ]
    },
    {
      "cell_type": "code",
      "metadata": {
        "colab": {
          "base_uri": "https://localhost:8080/"
        },
        "id": "neyLMv4u_7we",
        "outputId": "657d8a0c-f25e-41fd-c281-aaa6fd0ade8b"
      },
      "source": [
        "messages = [\"Привет! Как дела?\",\n",
        "            \"Привет! Все хорошо, а у тебя?\"]\n",
        "print(generate_dialog(messages))"
      ],
      "execution_count": 35,
      "outputs": [
        {
          "output_type": "stream",
          "text": [
            "Setting `pad_token_id` to `eos_token_id`:50256 for open-end generation.\n"
          ],
          "name": "stderr"
        },
        {
          "output_type": "stream",
          "text": [
            "Хорошо. Ты откуда и где?) Чем занимаешься по жизни?) А я из Москвы. Учусь в школе на инженера 😂 Вот скоро иду домой к родителям, они ждут меня ) Люблю готовить вкусно )) Вкусно поесть это здорово! Особенно когда есть семья с маленькими детьми ))) Я обожаю сладкое... Да ещё люблю мандарины ❤️☺👍‼А ты чем увлекаешся помимо учебы/работы)?\n"
          ],
          "name": "stdout"
        }
      ]
    }
  ]
}